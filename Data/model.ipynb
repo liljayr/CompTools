{
 "cells": [
  {
   "cell_type": "code",
   "execution_count": 4,
   "metadata": {},
   "outputs": [
    {
     "name": "stderr",
     "output_type": "stream",
     "text": [
      "2022-11-07 16:33:14.900848: I tensorflow/core/platform/cpu_feature_guard.cc:193] This TensorFlow binary is optimized with oneAPI Deep Neural Network Library (oneDNN) to use the following CPU instructions in performance-critical operations:  AVX2 FMA\n",
      "To enable them in other operations, rebuild TensorFlow with the appropriate compiler flags.\n"
     ]
    }
   ],
   "source": [
    "import pandas as pd\n",
    "import numpy as np\n",
    "import json\n",
    "import nltk\n",
    "import re\n",
    "import csv\n",
    "import matplotlib.pyplot as plt\n",
    "from tqdm import tqdm\n",
    "from sklearn.feature_extraction.text import TfidfVectorizer\n",
    "from sklearn.model_selection import train_test_split\n",
    "from sklearn.preprocessing import MultiLabelBinarizer\n",
    "from sklearn.linear_model import LogisticRegression\n",
    "from sklearn.multiclass import OneVsRestClassifier\n",
    "from sklearn.metrics import f1_score, accuracy_score\n",
    "from nltk.stem import WordNetLemmatizer\n",
    "from collections import defaultdict\n",
    "import torch\n",
    "from sklearn.model_selection import train_test_split\n",
    "import tensorflow as tf\n",
    "from tensorflow.keras.layers import Dense, Flatten, Input, Embedding, Concatenate\n",
    "from tensorflow.keras.callbacks import EarlyStopping\n",
    "from tensorflow.keras.optimizers import Adam\n",
    "from sklearn.neighbors import KNeighborsClassifier\n",
    "from functions import *\n",
    "\n",
    "\n"
   ]
  },
  {
   "cell_type": "markdown",
   "metadata": {},
   "source": [
    "**Computational Tool Final Project**\n"
   ]
  },
  {
   "cell_type": "code",
   "execution_count": 2,
   "metadata": {},
   "outputs": [],
   "source": [
    "clean_books1 = pd.read_csv('generalized_books_and_ratings.csv')\n",
    "clean_books1 = clean_books1[[\"Title\",\"description\",\"authors\",\"publishedDate\",\"categories\",\"averageRating\"]]\n",
    "clean_books1['clean_summary'] = clean_books1['description'].apply(lambda x: clean_books(x))\n",
    "#clean_books1['clean_authors'] = clean_books1['authors'].apply(lambda x: clean_books(x))\n",
    "clean_books1['clean_categories'] = clean_books1['categories'].apply(lambda x: clean_books(x))\n",
    "clean_books1 = clean_books1.dropna()\n",
    "books = clean_books1[[\"Title\" ,\"authors\" ,\"publishedDate\" , \"clean_summary\" , \"clean_categories\" , \"averageRating\"] ]\n",
    "books\n",
    "books.to_csv(\"final.csv\")\n",
    "\n",
    "\n"
   ]
  },
  {
   "cell_type": "markdown",
   "metadata": {},
   "source": [
    "In this project we are going to use a cleaned up version of this data set from Kaggle (https://www.kaggle.com/datasets/mohamedbakhet/amazon-books-reviews?select=books_data.csv&fbclid=IwAR3H0BlyYyiNodMoF0GbzknzNMyriDa_9eL00g1if_Y29QBPcobfeHQpZCE).\n",
    "\n",
    "This dataset contains two csv files, one containg the ratings and another containg the books. Post cleanup there are 44285 books with  columns \n",
    ",Title,description,authors,image,previewLink,publisher,publishedDate,infoLink,categories,ratingsCount\n",
    ",Title,description,authors,publishedDate,categories,ratingsCount\n",
    "* id \n",
    "* book name \n",
    "* genre \n",
    "* summary\n",
    "\n",
    "The second csv file contains the reviews for the books and has 1502433 reviews total after cleanup (removing the ratings for the books we removed in the cleanup of the first csv file). The columns it has is:\n",
    ",Id,Title,Price,review/helpfulness,review/score,review/time,review/summary,review/text\n",
    ",Id,Title,Price,User_id,review/score\n",
    "\n",
    "Our main goal is to classify the books with text simmilarity ( using summaries) and predict their genre correctly. Moreover, we want to make a simple recomendation UI using github pages which the user can choose between time, rating , genre and get some recomendation based on our classification model.\n"
   ]
  },
  {
   "cell_type": "code",
   "execution_count": 8,
   "metadata": {},
   "outputs": [
    {
     "name": "stderr",
     "output_type": "stream",
     "text": [
      "/var/folders/wt/pl8gm0gs50d6vpk0nxfh07_h0000gn/T/ipykernel_14236/906595094.py:13: SettingWithCopyWarning: \n",
      "A value is trying to be set on a copy of a slice from a DataFrame\n",
      "\n",
      "See the caveats in the documentation: https://pandas.pydata.org/pandas-docs/stable/user_guide/indexing.html#returning-a-view-versus-a-copy\n",
      "  file1['clean_summary'].loc[index] = cat_arr\n"
     ]
    }
   ],
   "source": [
    "\n",
    "import io \n",
    "from nltk.corpus import stopwords \n",
    "from nltk.tokenize import word_tokenize \n",
    "\n",
    "stop_words = set(stopwords.words('english')) \n",
    "file1 = pd.read_csv(\"final.csv\") \n",
    "for index, row in file1[\"clean_summary\"].iteritems():\n",
    "    if  isinstance(row, str):\n",
    "        cat_arr = row.split(\" \")\n",
    "        for word in cat_arr:\n",
    "            if word in stop_words:\n",
    "                cat_arr.remove(word)\n",
    "        file1['clean_summary'].loc[index] = cat_arr\n",
    "    \n",
    "        \n",
    "        \n",
    "\n",
    "\n",
    "    \n",
    "    \n",
    "\n",
    "\n",
    "\n",
    "\n"
   ]
  },
  {
   "cell_type": "code",
   "execution_count": 10,
   "metadata": {},
   "outputs": [
    {
     "data": {
      "text/html": [
       "<div>\n",
       "<style scoped>\n",
       "    .dataframe tbody tr th:only-of-type {\n",
       "        vertical-align: middle;\n",
       "    }\n",
       "\n",
       "    .dataframe tbody tr th {\n",
       "        vertical-align: top;\n",
       "    }\n",
       "\n",
       "    .dataframe thead th {\n",
       "        text-align: right;\n",
       "    }\n",
       "</style>\n",
       "<table border=\"1\" class=\"dataframe\">\n",
       "  <thead>\n",
       "    <tr style=\"text-align: right;\">\n",
       "      <th></th>\n",
       "      <th>Unnamed: 0</th>\n",
       "      <th>Title</th>\n",
       "      <th>authors</th>\n",
       "      <th>publishedDate</th>\n",
       "      <th>clean_summary</th>\n",
       "      <th>clean_categories</th>\n",
       "      <th>averageRating</th>\n",
       "    </tr>\n",
       "  </thead>\n",
       "  <tbody>\n",
       "    <tr>\n",
       "      <th>0</th>\n",
       "      <td>0</td>\n",
       "      <td>The Church of Christ: A Biblical Ecclesiology ...</td>\n",
       "      <td>['Everett Ferguson']</td>\n",
       "      <td>1996</td>\n",
       "      <td>[church, christ, biblical, ecclesiology, today...</td>\n",
       "      <td>religion</td>\n",
       "      <td>4.50</td>\n",
       "    </tr>\n",
       "    <tr>\n",
       "      <th>1</th>\n",
       "      <td>1</td>\n",
       "      <td>Voices from the Farm: Adventures in Community ...</td>\n",
       "      <td>['Rupert Fike']</td>\n",
       "      <td>2012-08-21</td>\n",
       "      <td>[twenty, five, years, ago, height, counter, cu...</td>\n",
       "      <td>biography autobiography</td>\n",
       "      <td>4.82</td>\n",
       "    </tr>\n",
       "    <tr>\n",
       "      <th>2</th>\n",
       "      <td>2</td>\n",
       "      <td>The Battleship Bismarck</td>\n",
       "      <td>['Stefan Draminski']</td>\n",
       "      <td>2018-09-20</td>\n",
       "      <td>[bismarck, perhaps, famous, notorious, warship...</td>\n",
       "      <td>history</td>\n",
       "      <td>3.50</td>\n",
       "    </tr>\n",
       "    <tr>\n",
       "      <th>3</th>\n",
       "      <td>3</td>\n",
       "      <td>Tess and the Highlander</td>\n",
       "      <td>['May Mcgoldrick']</td>\n",
       "      <td>2002-11</td>\n",
       "      <td>[on, windswept, isle, of, scotland, seventeen,...</td>\n",
       "      <td>fiction</td>\n",
       "      <td>4.24</td>\n",
       "    </tr>\n",
       "    <tr>\n",
       "      <th>4</th>\n",
       "      <td>4</td>\n",
       "      <td>Beginner's Yoruba (Hippocrene Beginner's Series)</td>\n",
       "      <td>['Kayode J. Fakinlede']</td>\n",
       "      <td>2005</td>\n",
       "      <td>[, beginners, yoruba, now, available, two, acc...</td>\n",
       "      <td>education</td>\n",
       "      <td>3.80</td>\n",
       "    </tr>\n",
       "    <tr>\n",
       "      <th>...</th>\n",
       "      <td>...</td>\n",
       "      <td>...</td>\n",
       "      <td>...</td>\n",
       "      <td>...</td>\n",
       "      <td>...</td>\n",
       "      <td>...</td>\n",
       "      <td>...</td>\n",
       "    </tr>\n",
       "    <tr>\n",
       "      <th>41401</th>\n",
       "      <td>41830</td>\n",
       "      <td>Thin Within</td>\n",
       "      <td>['Judy Halliday', 'Arthur Halliday']</td>\n",
       "      <td>2005-04-17</td>\n",
       "      <td>[want, lose, weight, dieting, doesnt, seem, wo...</td>\n",
       "      <td>health fitness</td>\n",
       "      <td>4.93</td>\n",
       "    </tr>\n",
       "    <tr>\n",
       "      <th>41402</th>\n",
       "      <td>41831</td>\n",
       "      <td>The Awakening and Selected Stories (Modern Lib...</td>\n",
       "      <td>['Kate Chopin']</td>\n",
       "      <td>2003</td>\n",
       "      <td>[it, first, appeared, awakening, greeted, crie...</td>\n",
       "      <td>love stories</td>\n",
       "      <td>3.00</td>\n",
       "    </tr>\n",
       "    <tr>\n",
       "      <th>41403</th>\n",
       "      <td>41832</td>\n",
       "      <td>Final things</td>\n",
       "      <td>['Jenny Offill']</td>\n",
       "      <td>2015-03-17</td>\n",
       "      <td>[graces, father, believes, science, builds, da...</td>\n",
       "      <td>fiction</td>\n",
       "      <td>4.00</td>\n",
       "    </tr>\n",
       "    <tr>\n",
       "      <th>41404</th>\n",
       "      <td>41833</td>\n",
       "      <td>The Orphan Of Ellis Island (Time Travel Advent...</td>\n",
       "      <td>['Elvira Woodruff']</td>\n",
       "      <td>2000-06-01</td>\n",
       "      <td>[school, trip, ellis, island, dominick, avaro,...</td>\n",
       "      <td>fiction</td>\n",
       "      <td>4.68</td>\n",
       "    </tr>\n",
       "    <tr>\n",
       "      <th>41405</th>\n",
       "      <td>41834</td>\n",
       "      <td>The Autograph Man</td>\n",
       "      <td>['Zadie Smith']</td>\n",
       "      <td>2003-08-12</td>\n",
       "      <td>[alex, li, tandem, sells, autographs, business...</td>\n",
       "      <td>fiction</td>\n",
       "      <td>2.50</td>\n",
       "    </tr>\n",
       "  </tbody>\n",
       "</table>\n",
       "<p>41406 rows × 7 columns</p>\n",
       "</div>"
      ],
      "text/plain": [
       "       Unnamed: 0                                              Title  \\\n",
       "0               0  The Church of Christ: A Biblical Ecclesiology ...   \n",
       "1               1  Voices from the Farm: Adventures in Community ...   \n",
       "2               2                            The Battleship Bismarck   \n",
       "3               3                            Tess and the Highlander   \n",
       "4               4   Beginner's Yoruba (Hippocrene Beginner's Series)   \n",
       "...           ...                                                ...   \n",
       "41401       41830                                        Thin Within   \n",
       "41402       41831  The Awakening and Selected Stories (Modern Lib...   \n",
       "41403       41832                                       Final things   \n",
       "41404       41833  The Orphan Of Ellis Island (Time Travel Advent...   \n",
       "41405       41834                                  The Autograph Man   \n",
       "\n",
       "                                    authors publishedDate  \\\n",
       "0                      ['Everett Ferguson']          1996   \n",
       "1                           ['Rupert Fike']    2012-08-21   \n",
       "2                      ['Stefan Draminski']    2018-09-20   \n",
       "3                        ['May Mcgoldrick']       2002-11   \n",
       "4                   ['Kayode J. Fakinlede']          2005   \n",
       "...                                     ...           ...   \n",
       "41401  ['Judy Halliday', 'Arthur Halliday']    2005-04-17   \n",
       "41402                       ['Kate Chopin']          2003   \n",
       "41403                      ['Jenny Offill']    2015-03-17   \n",
       "41404                   ['Elvira Woodruff']    2000-06-01   \n",
       "41405                       ['Zadie Smith']    2003-08-12   \n",
       "\n",
       "                                           clean_summary  \\\n",
       "0      [church, christ, biblical, ecclesiology, today...   \n",
       "1      [twenty, five, years, ago, height, counter, cu...   \n",
       "2      [bismarck, perhaps, famous, notorious, warship...   \n",
       "3      [on, windswept, isle, of, scotland, seventeen,...   \n",
       "4      [, beginners, yoruba, now, available, two, acc...   \n",
       "...                                                  ...   \n",
       "41401  [want, lose, weight, dieting, doesnt, seem, wo...   \n",
       "41402  [it, first, appeared, awakening, greeted, crie...   \n",
       "41403  [graces, father, believes, science, builds, da...   \n",
       "41404  [school, trip, ellis, island, dominick, avaro,...   \n",
       "41405  [alex, li, tandem, sells, autographs, business...   \n",
       "\n",
       "              clean_categories  averageRating  \n",
       "0                     religion           4.50  \n",
       "1      biography autobiography           4.82  \n",
       "2                      history           3.50  \n",
       "3                      fiction           4.24  \n",
       "4                    education           3.80  \n",
       "...                        ...            ...  \n",
       "41401           health fitness           4.93  \n",
       "41402             love stories           3.00  \n",
       "41403                  fiction           4.00  \n",
       "41404                  fiction           4.68  \n",
       "41405                  fiction           2.50  \n",
       "\n",
       "[41406 rows x 7 columns]"
      ]
     },
     "execution_count": 10,
     "metadata": {},
     "output_type": "execute_result"
    }
   ],
   "source": [
    "file1"
   ]
  },
  {
   "cell_type": "code",
   "execution_count": 11,
   "metadata": {},
   "outputs": [
    {
     "data": {
      "application/javascript": "\n        if (window._pyforest_update_imports_cell) { window._pyforest_update_imports_cell('from sklearn.feature_extraction.text import TfidfVectorizer'); }\n    ",
      "text/plain": [
       "<IPython.core.display.Javascript object>"
      ]
     },
     "metadata": {},
     "output_type": "display_data"
    },
    {
     "name": "stderr",
     "output_type": "stream",
     "text": [
      "/Users/stef_cm/opt/anaconda3/lib/python3.9/site-packages/sklearn/utils/deprecation.py:87: FutureWarning: Function get_feature_names is deprecated; get_feature_names is deprecated in 1.0 and will be removed in 1.2. Please use get_feature_names_out instead.\n",
      "  warnings.warn(msg, category=FutureWarning)\n"
     ]
    },
    {
     "ename": "",
     "evalue": "",
     "output_type": "error",
     "traceback": [
      "\u001b[1;31mCanceled future for execute_request message before replies were done"
     ]
    },
    {
     "ename": "",
     "evalue": "",
     "output_type": "error",
     "traceback": [
      "\u001b[1;31mThe Kernel crashed while executing code in the the current cell or a previous cell. Please review the code in the cell(s) to identify a possible cause of the failure. Click <a href='https://aka.ms/vscodeJupyterKernelCrash'>here</a> for more info. View Jupyter <a href='command:jupyter.viewOutput'>log</a> for further details."
     ]
    }
   ],
   "source": [
    "vectorizer = TfidfVectorizer()\n",
    "vectors = vectorizer.fit_transform(clean_books1[\"clean_summary\"])\n",
    "feature_names = vectorizer.get_feature_names()\n",
    "dense = vectors.todense()\n",
    "denselist = dense.tolist()\n",
    "df = pd.DataFrame(denselist, columns=feature_names)"
   ]
  },
  {
   "cell_type": "code",
   "execution_count": 24,
   "metadata": {},
   "outputs": [
    {
     "data": {
      "text/plain": [
       "Unnamed: 0            int64\n",
       "Title                object\n",
       "authors              object\n",
       "publishedDate        object\n",
       "clean_summary        object\n",
       "clean_categories     object\n",
       "averageRating       float64\n",
       "dtype: object"
      ]
     },
     "execution_count": 24,
     "metadata": {},
     "output_type": "execute_result"
    }
   ],
   "source": [
    "file1.dtypes"
   ]
  },
  {
   "cell_type": "code",
   "execution_count": 25,
   "metadata": {},
   "outputs": [
    {
     "data": {
      "text/plain": [
       "0"
      ]
     },
     "execution_count": 25,
     "metadata": {},
     "output_type": "execute_result"
    }
   ],
   "source": [
    "file1['clean_summary'].isna().sum()"
   ]
  }
 ],
 "metadata": {
  "kernelspec": {
   "display_name": "Python 3.9.12 ('base')",
   "language": "python",
   "name": "python3"
  },
  "language_info": {
   "codemirror_mode": {
    "name": "ipython",
    "version": 3
   },
   "file_extension": ".py",
   "mimetype": "text/x-python",
   "name": "python",
   "nbconvert_exporter": "python",
   "pygments_lexer": "ipython3",
   "version": "3.9.12"
  },
  "orig_nbformat": 4,
  "vscode": {
   "interpreter": {
    "hash": "77d4c5f2408167361457cfd0f77ee97be8172a1aac6481540df2da5e7940c2bb"
   }
  }
 },
 "nbformat": 4,
 "nbformat_minor": 2
}
