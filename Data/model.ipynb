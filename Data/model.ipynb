{
 "cells": [
  {
   "cell_type": "markdown",
   "metadata": {},
   "source": [
    "TODO: upgrade pip"
   ]
  },
  {
   "cell_type": "code",
   "execution_count": 63,
   "metadata": {},
   "outputs": [
    {
     "name": "stdout",
     "output_type": "stream",
     "text": [
      "Requirement already satisfied: pip in /Users/liljayrgudmundsdottir/Documents/DTU/CompTools4DS/Project/aaaaaa/CompTools/.venv/lib/python3.9/site-packages (22.0.4)\n",
      "Collecting pip\n",
      "  Downloading pip-22.3.1-py3-none-any.whl (2.1 MB)\n",
      "\u001b[2K     \u001b[90m━━━━━━━━━━━━━━━━━━━━━━━━━━━━━━━━━━━━━━━━\u001b[0m \u001b[32m2.1/2.1 MB\u001b[0m \u001b[31m15.9 MB/s\u001b[0m eta \u001b[36m0:00:00\u001b[0m00:01\u001b[0m00:01\u001b[0m\n",
      "\u001b[?25hInstalling collected packages: pip\n",
      "  Attempting uninstall: pip\n",
      "    Found existing installation: pip 22.0.4\n",
      "    Uninstalling pip-22.0.4:\n",
      "      Successfully uninstalled pip-22.0.4\n",
      "Successfully installed pip-22.3.1\n",
      "Requirement already satisfied: torch in /Users/liljayrgudmundsdottir/Documents/DTU/CompTools4DS/Project/aaaaaa/CompTools/.venv/lib/python3.9/site-packages (1.13.0)\n",
      "Requirement already satisfied: typing-extensions in /Users/liljayrgudmundsdottir/Documents/DTU/CompTools4DS/Project/aaaaaa/CompTools/.venv/lib/python3.9/site-packages (from torch) (4.4.0)\n",
      "Requirement already satisfied: tensorflow in /Users/liljayrgudmundsdottir/Documents/DTU/CompTools4DS/Project/aaaaaa/CompTools/.venv/lib/python3.9/site-packages (2.11.0)\n",
      "Requirement already satisfied: six>=1.12.0 in /Users/liljayrgudmundsdottir/Documents/DTU/CompTools4DS/Project/aaaaaa/CompTools/.venv/lib/python3.9/site-packages (from tensorflow) (1.16.0)\n",
      "Requirement already satisfied: gast<=0.4.0,>=0.2.1 in /Users/liljayrgudmundsdottir/Documents/DTU/CompTools4DS/Project/aaaaaa/CompTools/.venv/lib/python3.9/site-packages (from tensorflow) (0.4.0)\n",
      "Requirement already satisfied: absl-py>=1.0.0 in /Users/liljayrgudmundsdottir/Documents/DTU/CompTools4DS/Project/aaaaaa/CompTools/.venv/lib/python3.9/site-packages (from tensorflow) (1.3.0)\n",
      "Requirement already satisfied: h5py>=2.9.0 in /Users/liljayrgudmundsdottir/Documents/DTU/CompTools4DS/Project/aaaaaa/CompTools/.venv/lib/python3.9/site-packages (from tensorflow) (3.7.0)\n",
      "Requirement already satisfied: setuptools in /Users/liljayrgudmundsdottir/Documents/DTU/CompTools4DS/Project/aaaaaa/CompTools/.venv/lib/python3.9/site-packages (from tensorflow) (58.1.0)\n",
      "Requirement already satisfied: tensorflow-estimator<2.12,>=2.11.0 in /Users/liljayrgudmundsdottir/Documents/DTU/CompTools4DS/Project/aaaaaa/CompTools/.venv/lib/python3.9/site-packages (from tensorflow) (2.11.0)\n",
      "Requirement already satisfied: numpy>=1.20 in /Users/liljayrgudmundsdottir/Documents/DTU/CompTools4DS/Project/aaaaaa/CompTools/.venv/lib/python3.9/site-packages (from tensorflow) (1.23.4)\n",
      "Requirement already satisfied: astunparse>=1.6.0 in /Users/liljayrgudmundsdottir/Documents/DTU/CompTools4DS/Project/aaaaaa/CompTools/.venv/lib/python3.9/site-packages (from tensorflow) (1.6.3)\n",
      "Requirement already satisfied: tensorboard<2.12,>=2.11 in /Users/liljayrgudmundsdottir/Documents/DTU/CompTools4DS/Project/aaaaaa/CompTools/.venv/lib/python3.9/site-packages (from tensorflow) (2.11.0)\n",
      "Requirement already satisfied: google-pasta>=0.1.1 in /Users/liljayrgudmundsdottir/Documents/DTU/CompTools4DS/Project/aaaaaa/CompTools/.venv/lib/python3.9/site-packages (from tensorflow) (0.2.0)\n",
      "Requirement already satisfied: keras<2.12,>=2.11.0 in /Users/liljayrgudmundsdottir/Documents/DTU/CompTools4DS/Project/aaaaaa/CompTools/.venv/lib/python3.9/site-packages (from tensorflow) (2.11.0)\n",
      "Requirement already satisfied: opt-einsum>=2.3.2 in /Users/liljayrgudmundsdottir/Documents/DTU/CompTools4DS/Project/aaaaaa/CompTools/.venv/lib/python3.9/site-packages (from tensorflow) (3.3.0)\n",
      "Requirement already satisfied: protobuf<3.20,>=3.9.2 in /Users/liljayrgudmundsdottir/Documents/DTU/CompTools4DS/Project/aaaaaa/CompTools/.venv/lib/python3.9/site-packages (from tensorflow) (3.19.6)\n",
      "Requirement already satisfied: wrapt>=1.11.0 in /Users/liljayrgudmundsdottir/Documents/DTU/CompTools4DS/Project/aaaaaa/CompTools/.venv/lib/python3.9/site-packages (from tensorflow) (1.14.1)\n",
      "Requirement already satisfied: typing-extensions>=3.6.6 in /Users/liljayrgudmundsdottir/Documents/DTU/CompTools4DS/Project/aaaaaa/CompTools/.venv/lib/python3.9/site-packages (from tensorflow) (4.4.0)\n",
      "Requirement already satisfied: libclang>=13.0.0 in /Users/liljayrgudmundsdottir/Documents/DTU/CompTools4DS/Project/aaaaaa/CompTools/.venv/lib/python3.9/site-packages (from tensorflow) (14.0.6)\n",
      "Requirement already satisfied: flatbuffers>=2.0 in /Users/liljayrgudmundsdottir/Documents/DTU/CompTools4DS/Project/aaaaaa/CompTools/.venv/lib/python3.9/site-packages (from tensorflow) (22.10.26)\n",
      "Requirement already satisfied: termcolor>=1.1.0 in /Users/liljayrgudmundsdottir/Documents/DTU/CompTools4DS/Project/aaaaaa/CompTools/.venv/lib/python3.9/site-packages (from tensorflow) (2.1.0)\n",
      "Requirement already satisfied: packaging in /Users/liljayrgudmundsdottir/Documents/DTU/CompTools4DS/Project/aaaaaa/CompTools/.venv/lib/python3.9/site-packages (from tensorflow) (21.3)\n",
      "Requirement already satisfied: grpcio<2.0,>=1.24.3 in /Users/liljayrgudmundsdottir/Documents/DTU/CompTools4DS/Project/aaaaaa/CompTools/.venv/lib/python3.9/site-packages (from tensorflow) (1.50.0)\n",
      "Requirement already satisfied: tensorflow-io-gcs-filesystem>=0.23.1 in /Users/liljayrgudmundsdottir/Documents/DTU/CompTools4DS/Project/aaaaaa/CompTools/.venv/lib/python3.9/site-packages (from tensorflow) (0.27.0)\n",
      "Requirement already satisfied: wheel<1.0,>=0.23.0 in /Users/liljayrgudmundsdottir/Documents/DTU/CompTools4DS/Project/aaaaaa/CompTools/.venv/lib/python3.9/site-packages (from astunparse>=1.6.0->tensorflow) (0.38.4)\n",
      "Requirement already satisfied: google-auth-oauthlib<0.5,>=0.4.1 in /Users/liljayrgudmundsdottir/Documents/DTU/CompTools4DS/Project/aaaaaa/CompTools/.venv/lib/python3.9/site-packages (from tensorboard<2.12,>=2.11->tensorflow) (0.4.6)\n",
      "Requirement already satisfied: markdown>=2.6.8 in /Users/liljayrgudmundsdottir/Documents/DTU/CompTools4DS/Project/aaaaaa/CompTools/.venv/lib/python3.9/site-packages (from tensorboard<2.12,>=2.11->tensorflow) (3.4.1)\n",
      "Requirement already satisfied: werkzeug>=1.0.1 in /Users/liljayrgudmundsdottir/Documents/DTU/CompTools4DS/Project/aaaaaa/CompTools/.venv/lib/python3.9/site-packages (from tensorboard<2.12,>=2.11->tensorflow) (2.2.2)\n",
      "Requirement already satisfied: google-auth<3,>=1.6.3 in /Users/liljayrgudmundsdottir/Documents/DTU/CompTools4DS/Project/aaaaaa/CompTools/.venv/lib/python3.9/site-packages (from tensorboard<2.12,>=2.11->tensorflow) (2.14.1)\n",
      "Requirement already satisfied: tensorboard-data-server<0.7.0,>=0.6.0 in /Users/liljayrgudmundsdottir/Documents/DTU/CompTools4DS/Project/aaaaaa/CompTools/.venv/lib/python3.9/site-packages (from tensorboard<2.12,>=2.11->tensorflow) (0.6.1)\n",
      "Requirement already satisfied: tensorboard-plugin-wit>=1.6.0 in /Users/liljayrgudmundsdottir/Documents/DTU/CompTools4DS/Project/aaaaaa/CompTools/.venv/lib/python3.9/site-packages (from tensorboard<2.12,>=2.11->tensorflow) (1.8.1)\n",
      "Requirement already satisfied: requests<3,>=2.21.0 in /Users/liljayrgudmundsdottir/Documents/DTU/CompTools4DS/Project/aaaaaa/CompTools/.venv/lib/python3.9/site-packages (from tensorboard<2.12,>=2.11->tensorflow) (2.28.1)\n",
      "Requirement already satisfied: pyparsing!=3.0.5,>=2.0.2 in /Users/liljayrgudmundsdottir/Documents/DTU/CompTools4DS/Project/aaaaaa/CompTools/.venv/lib/python3.9/site-packages (from packaging->tensorflow) (3.0.9)\n",
      "Requirement already satisfied: cachetools<6.0,>=2.0.0 in /Users/liljayrgudmundsdottir/Documents/DTU/CompTools4DS/Project/aaaaaa/CompTools/.venv/lib/python3.9/site-packages (from google-auth<3,>=1.6.3->tensorboard<2.12,>=2.11->tensorflow) (5.2.0)\n",
      "Requirement already satisfied: rsa<5,>=3.1.4 in /Users/liljayrgudmundsdottir/Documents/DTU/CompTools4DS/Project/aaaaaa/CompTools/.venv/lib/python3.9/site-packages (from google-auth<3,>=1.6.3->tensorboard<2.12,>=2.11->tensorflow) (4.9)\n",
      "Requirement already satisfied: pyasn1-modules>=0.2.1 in /Users/liljayrgudmundsdottir/Documents/DTU/CompTools4DS/Project/aaaaaa/CompTools/.venv/lib/python3.9/site-packages (from google-auth<3,>=1.6.3->tensorboard<2.12,>=2.11->tensorflow) (0.2.8)\n",
      "Requirement already satisfied: requests-oauthlib>=0.7.0 in /Users/liljayrgudmundsdottir/Documents/DTU/CompTools4DS/Project/aaaaaa/CompTools/.venv/lib/python3.9/site-packages (from google-auth-oauthlib<0.5,>=0.4.1->tensorboard<2.12,>=2.11->tensorflow) (1.3.1)\n",
      "Requirement already satisfied: importlib-metadata>=4.4 in /Users/liljayrgudmundsdottir/Documents/DTU/CompTools4DS/Project/aaaaaa/CompTools/.venv/lib/python3.9/site-packages (from markdown>=2.6.8->tensorboard<2.12,>=2.11->tensorflow) (5.0.0)\n",
      "Requirement already satisfied: certifi>=2017.4.17 in /Users/liljayrgudmundsdottir/Documents/DTU/CompTools4DS/Project/aaaaaa/CompTools/.venv/lib/python3.9/site-packages (from requests<3,>=2.21.0->tensorboard<2.12,>=2.11->tensorflow) (2022.9.24)\n",
      "Requirement already satisfied: charset-normalizer<3,>=2 in /Users/liljayrgudmundsdottir/Documents/DTU/CompTools4DS/Project/aaaaaa/CompTools/.venv/lib/python3.9/site-packages (from requests<3,>=2.21.0->tensorboard<2.12,>=2.11->tensorflow) (2.1.1)\n",
      "Requirement already satisfied: idna<4,>=2.5 in /Users/liljayrgudmundsdottir/Documents/DTU/CompTools4DS/Project/aaaaaa/CompTools/.venv/lib/python3.9/site-packages (from requests<3,>=2.21.0->tensorboard<2.12,>=2.11->tensorflow) (3.4)\n",
      "Requirement already satisfied: urllib3<1.27,>=1.21.1 in /Users/liljayrgudmundsdottir/Documents/DTU/CompTools4DS/Project/aaaaaa/CompTools/.venv/lib/python3.9/site-packages (from requests<3,>=2.21.0->tensorboard<2.12,>=2.11->tensorflow) (1.26.12)\n",
      "Requirement already satisfied: MarkupSafe>=2.1.1 in /Users/liljayrgudmundsdottir/Documents/DTU/CompTools4DS/Project/aaaaaa/CompTools/.venv/lib/python3.9/site-packages (from werkzeug>=1.0.1->tensorboard<2.12,>=2.11->tensorflow) (2.1.1)\n",
      "Requirement already satisfied: zipp>=0.5 in /Users/liljayrgudmundsdottir/Documents/DTU/CompTools4DS/Project/aaaaaa/CompTools/.venv/lib/python3.9/site-packages (from importlib-metadata>=4.4->markdown>=2.6.8->tensorboard<2.12,>=2.11->tensorflow) (3.10.0)\n",
      "Requirement already satisfied: pyasn1<0.5.0,>=0.4.6 in /Users/liljayrgudmundsdottir/Documents/DTU/CompTools4DS/Project/aaaaaa/CompTools/.venv/lib/python3.9/site-packages (from pyasn1-modules>=0.2.1->google-auth<3,>=1.6.3->tensorboard<2.12,>=2.11->tensorflow) (0.4.8)\n",
      "Requirement already satisfied: oauthlib>=3.0.0 in /Users/liljayrgudmundsdottir/Documents/DTU/CompTools4DS/Project/aaaaaa/CompTools/.venv/lib/python3.9/site-packages (from requests-oauthlib>=0.7.0->google-auth-oauthlib<0.5,>=0.4.1->tensorboard<2.12,>=2.11->tensorflow) (3.2.2)\n",
      "Requirement already satisfied: keras in /Users/liljayrgudmundsdottir/Documents/DTU/CompTools4DS/Project/aaaaaa/CompTools/.venv/lib/python3.9/site-packages (2.11.0)\n",
      "Requirement already satisfied: webdriver_manager in /Users/liljayrgudmundsdottir/Documents/DTU/CompTools4DS/Project/aaaaaa/CompTools/.venv/lib/python3.9/site-packages (3.8.5)\n",
      "Requirement already satisfied: requests in /Users/liljayrgudmundsdottir/Documents/DTU/CompTools4DS/Project/aaaaaa/CompTools/.venv/lib/python3.9/site-packages (from webdriver_manager) (2.28.1)\n",
      "Requirement already satisfied: python-dotenv in /Users/liljayrgudmundsdottir/Documents/DTU/CompTools4DS/Project/aaaaaa/CompTools/.venv/lib/python3.9/site-packages (from webdriver_manager) (0.21.0)\n",
      "Requirement already satisfied: tqdm in /Users/liljayrgudmundsdottir/Documents/DTU/CompTools4DS/Project/aaaaaa/CompTools/.venv/lib/python3.9/site-packages (from webdriver_manager) (4.64.1)\n",
      "Requirement already satisfied: packaging in /Users/liljayrgudmundsdottir/Documents/DTU/CompTools4DS/Project/aaaaaa/CompTools/.venv/lib/python3.9/site-packages (from webdriver_manager) (21.3)\n",
      "Requirement already satisfied: pyparsing!=3.0.5,>=2.0.2 in /Users/liljayrgudmundsdottir/Documents/DTU/CompTools4DS/Project/aaaaaa/CompTools/.venv/lib/python3.9/site-packages (from packaging->webdriver_manager) (3.0.9)\n",
      "Requirement already satisfied: urllib3<1.27,>=1.21.1 in /Users/liljayrgudmundsdottir/Documents/DTU/CompTools4DS/Project/aaaaaa/CompTools/.venv/lib/python3.9/site-packages (from requests->webdriver_manager) (1.26.12)\n",
      "Requirement already satisfied: charset-normalizer<3,>=2 in /Users/liljayrgudmundsdottir/Documents/DTU/CompTools4DS/Project/aaaaaa/CompTools/.venv/lib/python3.9/site-packages (from requests->webdriver_manager) (2.1.1)\n",
      "Requirement already satisfied: certifi>=2017.4.17 in /Users/liljayrgudmundsdottir/Documents/DTU/CompTools4DS/Project/aaaaaa/CompTools/.venv/lib/python3.9/site-packages (from requests->webdriver_manager) (2022.9.24)\n",
      "Requirement already satisfied: idna<4,>=2.5 in /Users/liljayrgudmundsdottir/Documents/DTU/CompTools4DS/Project/aaaaaa/CompTools/.venv/lib/python3.9/site-packages (from requests->webdriver_manager) (3.4)\n"
     ]
    }
   ],
   "source": [
    "import sys\n",
    "!{sys.executable} -m pip install pip --upgrade\n",
    "!{sys.executable} -m pip install torch\n",
    "!{sys.executable} -m pip install tensorflow\n",
    "!{sys.executable} -m pip install keras\n",
    "!{sys.executable} -m pip install webdriver_manager"
   ]
  },
  {
   "cell_type": "code",
   "execution_count": null,
   "metadata": {},
   "outputs": [],
   "source": [
    "import pandas as pd\n",
    "# import numpy as np\n",
    "# import json\n",
    "# import nltk\n",
    "# import re\n",
    "import csv\n",
    "# import matplotlib.pyplot as plt\n",
    "# from tqdm import tqdm\n",
    "# from sklearn.feature_extraction.text import TfidfVectorizer\n",
    "# from sklearn.model_selection import train_test_split\n",
    "# from sklearn.preprocessing import MultiLabelBinarizer\n",
    "# from sklearn.linear_model import LogisticRegression\n",
    "# from sklearn.multiclass import OneVsRestClassifier\n",
    "# from sklearn.metrics import f1_score, accuracy_score\n",
    "# from nltk.stem import WordNetLemmatizer\n",
    "# from collections import defaultdict\n",
    "# import torch\n",
    "# from sklearn.model_selection import train_test_split\n",
    "# import tensorflow as tf\n",
    "# from tensorflow import keras\n",
    "# from keras.layers import Dense, Flatten, Input, Embedding, Concatenate\n",
    "# from keras.callbacks import EarlyStopping\n",
    "# from keras.optimizers import Adam\n",
    "# from sklearn.neighbors import KNeighborsClassifier\n",
    "from functions import *\n",
    "# from gensim.test.utils import common_texts\n",
    "from gensim.models.doc2vec import Doc2Vec, TaggedDocument\n",
    "# from gensim.test.utils import get_tmpfile\n",
    "# import io\n",
    "from nltk.corpus import stopwords\n",
    "# from nltk.tokenize import word_tokenize\n",
    "from gensim.models.doc2vec import Doc2Vec, TaggedDocument\n",
    "# from nltk.tokenize import word_tokenize\n",
    "# from gensim.models.doc2vec import Doc2Vec\n"
   ]
  },
  {
   "cell_type": "code",
   "execution_count": 64,
   "metadata": {},
   "outputs": [],
   "source": [
    "import pandas as pd\n",
    "from functions import *\n",
    "from gensim.models.doc2vec import Doc2Vec, TaggedDocument\n",
    "from nltk.corpus import stopwords\n",
    "from gensim.models.doc2vec import Doc2Vec, TaggedDocument"
   ]
  },
  {
   "cell_type": "markdown",
   "metadata": {},
   "source": [
    "**Computational Tool Final Project**\n"
   ]
  },
  {
   "cell_type": "markdown",
   "metadata": {},
   "source": [
    "TODO: add in explanation for following code"
   ]
  },
  {
   "cell_type": "code",
   "execution_count": null,
   "metadata": {},
   "outputs": [],
   "source": [
    "# TODO: add in code where we are combining in rates and description csvs"
   ]
  },
  {
   "cell_type": "code",
   "execution_count": 11,
   "metadata": {},
   "outputs": [
    {
     "data": {
      "text/html": [
       "<div>\n",
       "<style scoped>\n",
       "    .dataframe tbody tr th:only-of-type {\n",
       "        vertical-align: middle;\n",
       "    }\n",
       "\n",
       "    .dataframe tbody tr th {\n",
       "        vertical-align: top;\n",
       "    }\n",
       "\n",
       "    .dataframe thead th {\n",
       "        text-align: right;\n",
       "    }\n",
       "</style>\n",
       "<table border=\"1\" class=\"dataframe\">\n",
       "  <thead>\n",
       "    <tr style=\"text-align: right;\">\n",
       "      <th></th>\n",
       "      <th>Title</th>\n",
       "      <th>authors</th>\n",
       "      <th>publishedDate</th>\n",
       "      <th>clean_summary</th>\n",
       "      <th>clean_categories</th>\n",
       "      <th>averageRating</th>\n",
       "    </tr>\n",
       "  </thead>\n",
       "  <tbody>\n",
       "    <tr>\n",
       "      <th>0</th>\n",
       "      <td>The Church of Christ: A Biblical Ecclesiology ...</td>\n",
       "      <td>['Everett Ferguson']</td>\n",
       "      <td>1996</td>\n",
       "      <td>in the church of christ a biblical ecclesiolog...</td>\n",
       "      <td>religion</td>\n",
       "      <td>4.50</td>\n",
       "    </tr>\n",
       "    <tr>\n",
       "      <th>1</th>\n",
       "      <td>Voices from the Farm: Adventures in Community ...</td>\n",
       "      <td>['Rupert Fike']</td>\n",
       "      <td>2012-08-21</td>\n",
       "      <td>twenty five years ago at the height of the cou...</td>\n",
       "      <td>biography autobiography</td>\n",
       "      <td>4.82</td>\n",
       "    </tr>\n",
       "    <tr>\n",
       "      <th>2</th>\n",
       "      <td>The Battleship Bismarck</td>\n",
       "      <td>['Stefan Draminski']</td>\n",
       "      <td>2018-09-20</td>\n",
       "      <td>the bismarck is perhaps the most famous and no...</td>\n",
       "      <td>history</td>\n",
       "      <td>3.50</td>\n",
       "    </tr>\n",
       "    <tr>\n",
       "      <th>3</th>\n",
       "      <td>Tess and the Highlander</td>\n",
       "      <td>['May Mcgoldrick']</td>\n",
       "      <td>2002-11</td>\n",
       "      <td>in on a windswept isle off of scotland sevente...</td>\n",
       "      <td>fiction</td>\n",
       "      <td>4.24</td>\n",
       "    </tr>\n",
       "    <tr>\n",
       "      <th>4</th>\n",
       "      <td>Beginner's Yoruba (Hippocrene Beginner's Series)</td>\n",
       "      <td>['Kayode J. Fakinlede']</td>\n",
       "      <td>2005</td>\n",
       "      <td>beginners yoruba is now available with two ac...</td>\n",
       "      <td>education</td>\n",
       "      <td>3.80</td>\n",
       "    </tr>\n",
       "    <tr>\n",
       "      <th>...</th>\n",
       "      <td>...</td>\n",
       "      <td>...</td>\n",
       "      <td>...</td>\n",
       "      <td>...</td>\n",
       "      <td>...</td>\n",
       "      <td>...</td>\n",
       "    </tr>\n",
       "    <tr>\n",
       "      <th>41830</th>\n",
       "      <td>Thin Within</td>\n",
       "      <td>['Judy Halliday', 'Arthur Halliday']</td>\n",
       "      <td>2005-04-17</td>\n",
       "      <td>i want to lose weight but dieting just doesnt ...</td>\n",
       "      <td>health fitness</td>\n",
       "      <td>4.93</td>\n",
       "    </tr>\n",
       "    <tr>\n",
       "      <th>41831</th>\n",
       "      <td>The Awakening and Selected Stories (Modern Lib...</td>\n",
       "      <td>['Kate Chopin']</td>\n",
       "      <td>2003</td>\n",
       "      <td>when it first appeared in the awakening was gr...</td>\n",
       "      <td>love stories</td>\n",
       "      <td>3.00</td>\n",
       "    </tr>\n",
       "    <tr>\n",
       "      <th>41832</th>\n",
       "      <td>Final things</td>\n",
       "      <td>['Jenny Offill']</td>\n",
       "      <td>2015-03-17</td>\n",
       "      <td>graces father believes in science and builds h...</td>\n",
       "      <td>fiction</td>\n",
       "      <td>4.00</td>\n",
       "    </tr>\n",
       "    <tr>\n",
       "      <th>41833</th>\n",
       "      <td>The Orphan Of Ellis Island (Time Travel Advent...</td>\n",
       "      <td>['Elvira Woodruff']</td>\n",
       "      <td>2000-06-01</td>\n",
       "      <td>during a school trip to ellis island dominick ...</td>\n",
       "      <td>fiction</td>\n",
       "      <td>4.68</td>\n",
       "    </tr>\n",
       "    <tr>\n",
       "      <th>41834</th>\n",
       "      <td>The Autograph Man</td>\n",
       "      <td>['Zadie Smith']</td>\n",
       "      <td>2003-08-12</td>\n",
       "      <td>alex li tandem sells autographs his business i...</td>\n",
       "      <td>fiction</td>\n",
       "      <td>2.50</td>\n",
       "    </tr>\n",
       "  </tbody>\n",
       "</table>\n",
       "<p>41406 rows × 6 columns</p>\n",
       "</div>"
      ],
      "text/plain": [
       "                                                   Title  \\\n",
       "0      The Church of Christ: A Biblical Ecclesiology ...   \n",
       "1      Voices from the Farm: Adventures in Community ...   \n",
       "2                                The Battleship Bismarck   \n",
       "3                                Tess and the Highlander   \n",
       "4       Beginner's Yoruba (Hippocrene Beginner's Series)   \n",
       "...                                                  ...   \n",
       "41830                                        Thin Within   \n",
       "41831  The Awakening and Selected Stories (Modern Lib...   \n",
       "41832                                       Final things   \n",
       "41833  The Orphan Of Ellis Island (Time Travel Advent...   \n",
       "41834                                  The Autograph Man   \n",
       "\n",
       "                                    authors publishedDate  \\\n",
       "0                      ['Everett Ferguson']          1996   \n",
       "1                           ['Rupert Fike']    2012-08-21   \n",
       "2                      ['Stefan Draminski']    2018-09-20   \n",
       "3                        ['May Mcgoldrick']       2002-11   \n",
       "4                   ['Kayode J. Fakinlede']          2005   \n",
       "...                                     ...           ...   \n",
       "41830  ['Judy Halliday', 'Arthur Halliday']    2005-04-17   \n",
       "41831                       ['Kate Chopin']          2003   \n",
       "41832                      ['Jenny Offill']    2015-03-17   \n",
       "41833                   ['Elvira Woodruff']    2000-06-01   \n",
       "41834                       ['Zadie Smith']    2003-08-12   \n",
       "\n",
       "                                           clean_summary  \\\n",
       "0      in the church of christ a biblical ecclesiolog...   \n",
       "1      twenty five years ago at the height of the cou...   \n",
       "2      the bismarck is perhaps the most famous and no...   \n",
       "3      in on a windswept isle off of scotland sevente...   \n",
       "4       beginners yoruba is now available with two ac...   \n",
       "...                                                  ...   \n",
       "41830  i want to lose weight but dieting just doesnt ...   \n",
       "41831  when it first appeared in the awakening was gr...   \n",
       "41832  graces father believes in science and builds h...   \n",
       "41833  during a school trip to ellis island dominick ...   \n",
       "41834  alex li tandem sells autographs his business i...   \n",
       "\n",
       "              clean_categories  averageRating  \n",
       "0                     religion           4.50  \n",
       "1      biography autobiography           4.82  \n",
       "2                      history           3.50  \n",
       "3                      fiction           4.24  \n",
       "4                    education           3.80  \n",
       "...                        ...            ...  \n",
       "41830           health fitness           4.93  \n",
       "41831             love stories           3.00  \n",
       "41832                  fiction           4.00  \n",
       "41833                  fiction           4.68  \n",
       "41834                  fiction           2.50  \n",
       "\n",
       "[41406 rows x 6 columns]"
      ]
     },
     "execution_count": 11,
     "metadata": {},
     "output_type": "execute_result"
    }
   ],
   "source": [
    "# Load in books + ratings csv created before\n",
    "clean_books1 = pd.read_csv('generalized_books_and_ratings.csv')\n",
    "\n",
    "# Selecting specific columns that are relevant to the project\n",
    "clean_books1 = clean_books1[[\"Title\",\"description\",\"authors\",\"publishedDate\",\"categories\",\"averageRating\"]]\n",
    "\n",
    "# Clean up the description and categories columns (removing punctuation and )\n",
    "clean_books1['clean_summary'] = clean_books1['description'].apply(lambda x: clean_books(x))\n",
    "#clean_books1['clean_authors'] = clean_books1['authors'].apply(lambda x: clean_books(x))\n",
    "clean_books1['clean_categories'] = clean_books1['categories'].apply(lambda x: clean_books(x))\n",
    "\n",
    "# Drop all rows with null in them\n",
    "clean_books1 = clean_books1.dropna()\n",
    "\n",
    "# Write to new csv file\n",
    "books = clean_books1[[\"Title\" ,\"authors\" ,\"publishedDate\" , \"clean_summary\" , \"clean_categories\" , \"averageRating\"] ]\n",
    "books\n",
    "# books.to_csv(\"final.csv\")\n",
    "\n",
    "\n"
   ]
  },
  {
   "cell_type": "markdown",
   "metadata": {},
   "source": [
    "TODO: fix this up and move it up further\n",
    "In this project we are going to use a cleaned up version of this data set from Kaggle (https://www.kaggle.com/datasets/mohamedbakhet/amazon-books-reviews?select=books_data.csv&fbclid=IwAR3H0BlyYyiNodMoF0GbzknzNMyriDa_9eL00g1if_Y29QBPcobfeHQpZCE).\n",
    "\n",
    "This dataset contains two csv files, one containg the ratings and another containg the books. Post cleanup there are 44285 books with  columns \n",
    ",Title,description,authors,image,previewLink,publisher,publishedDate,infoLink,categories,ratingsCount\n",
    ",Title,description,authors,publishedDate,categories,ratingsCount\n",
    "* id \n",
    "* book name \n",
    "* genre \n",
    "* summary\n",
    "\n",
    "The second csv file contains the reviews for the books and has 1502433 reviews total after cleanup (removing the ratings for the books we removed in the cleanup of the first csv file). The columns it has is:\n",
    ",Id,Title,Price,review/helpfulness,review/score,review/time,review/summary,review/text\n",
    ",Id,Title,Price,User_id,review/score\n",
    "\n",
    "Our main goal is to classify the books with text simmilarity ( using summaries) and predict their genre correctly. Moreover, we want to make a simple recomendation UI using github pages which the user can choose between time, rating , genre and get some recomendation based on our classification model.\n"
   ]
  },
  {
   "cell_type": "code",
   "execution_count": 22,
   "metadata": {},
   "outputs": [],
   "source": [
    "file1 = pd.read_csv(\"final.csv\")\n",
    "# print(file1)\n",
    "file1['clean_summary'] = file1['clean_summary'].apply(lambda x: clean_books(x))\n"
   ]
  },
  {
   "cell_type": "code",
   "execution_count": 16,
   "metadata": {},
   "outputs": [
    {
     "name": "stdout",
     "output_type": "stream",
     "text": [
      "Index(['Unnamed: 0', 'Title', 'authors', 'publishedDate', 'clean_summary',\n",
      "       'clean_categories', 'averageRating'],\n",
      "      dtype='object')\n"
     ]
    }
   ],
   "source": [
    "print(file1.columns)"
   ]
  },
  {
   "cell_type": "markdown",
   "metadata": {},
   "source": [
    "TODO: add in an explanation for the code below"
   ]
  },
  {
   "cell_type": "code",
   "execution_count": 23,
   "metadata": {},
   "outputs": [
    {
     "name": "stderr",
     "output_type": "stream",
     "text": [
      "/var/folders/zn/5wg9cgvx6jg1qrfz458d4m900000gn/T/ipykernel_18103/235985914.py:7: FutureWarning: iteritems is deprecated and will be removed in a future version. Use .items instead.\n",
      "  for index, row in file1[\"clean_summary\"].iteritems():\n",
      "/var/folders/zn/5wg9cgvx6jg1qrfz458d4m900000gn/T/ipykernel_18103/235985914.py:14: SettingWithCopyWarning: \n",
      "A value is trying to be set on a copy of a slice from a DataFrame\n",
      "\n",
      "See the caveats in the documentation: https://pandas.pydata.org/pandas-docs/stable/user_guide/indexing.html#returning-a-view-versus-a-copy\n",
      "  file1['clean_summary'].loc[index] = sum_str\n"
     ]
    },
    {
     "name": "stdout",
     "output_type": "stream",
     "text": [
      "0    church christ biblical ecclesiology today resp...\n",
      "1    twenty five years ago height counter culture m...\n",
      "2    bismarck perhaps famous notorious warship ever...\n",
      "Name: clean_summary, dtype: object\n"
     ]
    }
   ],
   "source": [
    "\n",
    "# import io \n",
    "# from nltk.corpus import stopwords \n",
    "# from nltk.tokenize import word_tokenize \n",
    "\n",
    "# Remove all stop words (i.e. \"the, is, are\")\n",
    "stop_words = set(stopwords.words('english')) \n",
    "for index, row in file1[\"clean_summary\"].iteritems():\n",
    "    if  isinstance(row, str):\n",
    "        sum_arr = row.split(\" \")\n",
    "        for word in sum_arr:\n",
    "            if word in stop_words:\n",
    "                sum_arr.remove(word)\n",
    "        sum_str = ' '.join(sum_arr)\n",
    "        file1['clean_summary'].loc[index] = sum_str\n",
    "# TODO change this so that the clean_summary has a string and not an array\n",
    "# print(file1.head(3)['clean_summary'])"
   ]
  },
  {
   "cell_type": "code",
   "execution_count": 37,
   "metadata": {},
   "outputs": [
    {
     "data": {
      "text/html": [
       "<div>\n",
       "<style scoped>\n",
       "    .dataframe tbody tr th:only-of-type {\n",
       "        vertical-align: middle;\n",
       "    }\n",
       "\n",
       "    .dataframe tbody tr th {\n",
       "        vertical-align: top;\n",
       "    }\n",
       "\n",
       "    .dataframe thead th {\n",
       "        text-align: right;\n",
       "    }\n",
       "</style>\n",
       "<table border=\"1\" class=\"dataframe\">\n",
       "  <thead>\n",
       "    <tr style=\"text-align: right;\">\n",
       "      <th></th>\n",
       "      <th>Unnamed: 0</th>\n",
       "      <th>Title</th>\n",
       "      <th>authors</th>\n",
       "      <th>publishedDate</th>\n",
       "      <th>clean_summary</th>\n",
       "      <th>clean_categories</th>\n",
       "      <th>averageRating</th>\n",
       "    </tr>\n",
       "  </thead>\n",
       "  <tbody>\n",
       "    <tr>\n",
       "      <th>0</th>\n",
       "      <td>0</td>\n",
       "      <td>The Church of Christ: A Biblical Ecclesiology ...</td>\n",
       "      <td>['Everett Ferguson']</td>\n",
       "      <td>1996</td>\n",
       "      <td>in the church of christ a biblical ecclesiolog...</td>\n",
       "      <td>religion</td>\n",
       "      <td>4.50</td>\n",
       "    </tr>\n",
       "    <tr>\n",
       "      <th>1</th>\n",
       "      <td>1</td>\n",
       "      <td>Voices from the Farm: Adventures in Community ...</td>\n",
       "      <td>['Rupert Fike']</td>\n",
       "      <td>2012-08-21</td>\n",
       "      <td>twenty five years ago at the height of the cou...</td>\n",
       "      <td>biography autobiography</td>\n",
       "      <td>4.82</td>\n",
       "    </tr>\n",
       "    <tr>\n",
       "      <th>2</th>\n",
       "      <td>2</td>\n",
       "      <td>The Battleship Bismarck</td>\n",
       "      <td>['Stefan Draminski']</td>\n",
       "      <td>2018-09-20</td>\n",
       "      <td>the bismarck is perhaps the most famous and no...</td>\n",
       "      <td>history</td>\n",
       "      <td>3.50</td>\n",
       "    </tr>\n",
       "    <tr>\n",
       "      <th>3</th>\n",
       "      <td>3</td>\n",
       "      <td>Tess and the Highlander</td>\n",
       "      <td>['May Mcgoldrick']</td>\n",
       "      <td>2002-11</td>\n",
       "      <td>in on a windswept isle off of scotland sevente...</td>\n",
       "      <td>fiction</td>\n",
       "      <td>4.24</td>\n",
       "    </tr>\n",
       "    <tr>\n",
       "      <th>4</th>\n",
       "      <td>4</td>\n",
       "      <td>Beginner's Yoruba (Hippocrene Beginner's Series)</td>\n",
       "      <td>['Kayode J. Fakinlede']</td>\n",
       "      <td>2005</td>\n",
       "      <td>beginners yoruba is now available with two ac...</td>\n",
       "      <td>education</td>\n",
       "      <td>3.80</td>\n",
       "    </tr>\n",
       "    <tr>\n",
       "      <th>...</th>\n",
       "      <td>...</td>\n",
       "      <td>...</td>\n",
       "      <td>...</td>\n",
       "      <td>...</td>\n",
       "      <td>...</td>\n",
       "      <td>...</td>\n",
       "      <td>...</td>\n",
       "    </tr>\n",
       "    <tr>\n",
       "      <th>41401</th>\n",
       "      <td>41830</td>\n",
       "      <td>Thin Within</td>\n",
       "      <td>['Judy Halliday', 'Arthur Halliday']</td>\n",
       "      <td>2005-04-17</td>\n",
       "      <td>i want to lose weight but dieting just doesnt ...</td>\n",
       "      <td>health fitness</td>\n",
       "      <td>4.93</td>\n",
       "    </tr>\n",
       "    <tr>\n",
       "      <th>41402</th>\n",
       "      <td>41831</td>\n",
       "      <td>The Awakening and Selected Stories (Modern Lib...</td>\n",
       "      <td>['Kate Chopin']</td>\n",
       "      <td>2003</td>\n",
       "      <td>when it first appeared in the awakening was gr...</td>\n",
       "      <td>love stories</td>\n",
       "      <td>3.00</td>\n",
       "    </tr>\n",
       "    <tr>\n",
       "      <th>41403</th>\n",
       "      <td>41832</td>\n",
       "      <td>Final things</td>\n",
       "      <td>['Jenny Offill']</td>\n",
       "      <td>2015-03-17</td>\n",
       "      <td>graces father believes in science and builds h...</td>\n",
       "      <td>fiction</td>\n",
       "      <td>4.00</td>\n",
       "    </tr>\n",
       "    <tr>\n",
       "      <th>41404</th>\n",
       "      <td>41833</td>\n",
       "      <td>The Orphan Of Ellis Island (Time Travel Advent...</td>\n",
       "      <td>['Elvira Woodruff']</td>\n",
       "      <td>2000-06-01</td>\n",
       "      <td>during a school trip to ellis island dominick ...</td>\n",
       "      <td>fiction</td>\n",
       "      <td>4.68</td>\n",
       "    </tr>\n",
       "    <tr>\n",
       "      <th>41405</th>\n",
       "      <td>41834</td>\n",
       "      <td>The Autograph Man</td>\n",
       "      <td>['Zadie Smith']</td>\n",
       "      <td>2003-08-12</td>\n",
       "      <td>alex li tandem sells autographs his business i...</td>\n",
       "      <td>fiction</td>\n",
       "      <td>2.50</td>\n",
       "    </tr>\n",
       "  </tbody>\n",
       "</table>\n",
       "<p>41406 rows × 7 columns</p>\n",
       "</div>"
      ],
      "text/plain": [
       "       Unnamed: 0                                              Title  \\\n",
       "0               0  The Church of Christ: A Biblical Ecclesiology ...   \n",
       "1               1  Voices from the Farm: Adventures in Community ...   \n",
       "2               2                            The Battleship Bismarck   \n",
       "3               3                            Tess and the Highlander   \n",
       "4               4   Beginner's Yoruba (Hippocrene Beginner's Series)   \n",
       "...           ...                                                ...   \n",
       "41401       41830                                        Thin Within   \n",
       "41402       41831  The Awakening and Selected Stories (Modern Lib...   \n",
       "41403       41832                                       Final things   \n",
       "41404       41833  The Orphan Of Ellis Island (Time Travel Advent...   \n",
       "41405       41834                                  The Autograph Man   \n",
       "\n",
       "                                    authors publishedDate  \\\n",
       "0                      ['Everett Ferguson']          1996   \n",
       "1                           ['Rupert Fike']    2012-08-21   \n",
       "2                      ['Stefan Draminski']    2018-09-20   \n",
       "3                        ['May Mcgoldrick']       2002-11   \n",
       "4                   ['Kayode J. Fakinlede']          2005   \n",
       "...                                     ...           ...   \n",
       "41401  ['Judy Halliday', 'Arthur Halliday']    2005-04-17   \n",
       "41402                       ['Kate Chopin']          2003   \n",
       "41403                      ['Jenny Offill']    2015-03-17   \n",
       "41404                   ['Elvira Woodruff']    2000-06-01   \n",
       "41405                       ['Zadie Smith']    2003-08-12   \n",
       "\n",
       "                                           clean_summary  \\\n",
       "0      in the church of christ a biblical ecclesiolog...   \n",
       "1      twenty five years ago at the height of the cou...   \n",
       "2      the bismarck is perhaps the most famous and no...   \n",
       "3      in on a windswept isle off of scotland sevente...   \n",
       "4       beginners yoruba is now available with two ac...   \n",
       "...                                                  ...   \n",
       "41401  i want to lose weight but dieting just doesnt ...   \n",
       "41402  when it first appeared in the awakening was gr...   \n",
       "41403  graces father believes in science and builds h...   \n",
       "41404  during a school trip to ellis island dominick ...   \n",
       "41405  alex li tandem sells autographs his business i...   \n",
       "\n",
       "              clean_categories  averageRating  \n",
       "0                     religion           4.50  \n",
       "1      biography autobiography           4.82  \n",
       "2                      history           3.50  \n",
       "3                      fiction           4.24  \n",
       "4                    education           3.80  \n",
       "...                        ...            ...  \n",
       "41401           health fitness           4.93  \n",
       "41402             love stories           3.00  \n",
       "41403                  fiction           4.00  \n",
       "41404                  fiction           4.68  \n",
       "41405                  fiction           2.50  \n",
       "\n",
       "[41406 rows x 7 columns]"
      ]
     },
     "execution_count": 37,
     "metadata": {},
     "output_type": "execute_result"
    }
   ],
   "source": [
    "# file1['clean_summary'] = file1['clean_summary'].apply(lambda x: listToString(x))\n",
    "# file1\n"
   ]
  },
  {
   "cell_type": "code",
   "execution_count": 24,
   "metadata": {},
   "outputs": [],
   "source": [
    "test = file1[[ 'clean_summary' , 'Title'] ]\n"
   ]
  },
  {
   "cell_type": "markdown",
   "metadata": {},
   "source": [
    "TODO: text explaining what is going on here"
   ]
  },
  {
   "cell_type": "code",
   "execution_count": 25,
   "metadata": {},
   "outputs": [],
   "source": [
    "test_words =  tuple(test['clean_summary'])\n",
    "test_hash = tuple(test['Title'])"
   ]
  },
  {
   "cell_type": "code",
   "execution_count": 30,
   "metadata": {},
   "outputs": [
    {
     "name": "stdout",
     "output_type": "stream",
     "text": [
      "                                       clean_summary  \\\n",
      "0  church christ biblical ecclesiology today resp...   \n",
      "1  twenty five years ago height counter culture m...   \n",
      "2  bismarck perhaps famous notorious warship ever...   \n",
      "\n",
      "                                               Title  \n",
      "0  The Church of Christ: A Biblical Ecclesiology ...  \n",
      "1  Voices from the Farm: Adventures in Community ...  \n",
      "2                            The Battleship Bismarck  \n",
      "test words\n",
      "<class 'tuple'>\n",
      "church christ biblical ecclesiology today respected biblical scholar everett ferguson presents genuine biblical theology the church systematically examining the new testaments teaching the existence meaning purpose the church providing responsible coverage the traditional topics ecclesiology carefully grounding ecclesiology the person work christ ferguson unveils comprehensive model the church is biblically centered relevant a world the verge the twenty first century \n",
      "test_hash\n",
      "<class 'tuple'>\n",
      "church christ biblical ecclesiology today respected biblical scholar everett ferguson presents genuine biblical theology the church systematically examining the new testaments teaching the existence meaning purpose the church providing responsible coverage the traditional topics ecclesiology carefully grounding ecclesiology the person work christ ferguson unveils comprehensive model the church is biblically centered relevant a world the verge the twenty first century \n"
     ]
    }
   ],
   "source": [
    "print(test.head(3))\n",
    "print(\"test words\")\n",
    "print(type(test_words))\n",
    "print(test_words[0])\n",
    "print(\"test_hash\")\n",
    "print(type(test_hash))\n",
    "print(test_words[0])"
   ]
  },
  {
   "cell_type": "code",
   "execution_count": 44,
   "metadata": {},
   "outputs": [],
   "source": [
    "# from gensim.models.doc2vec import Doc2Vec, TaggedDocument\n",
    "# from nltk.tokenize import word_tokenize"
   ]
  },
  {
   "cell_type": "markdown",
   "metadata": {},
   "source": [
    "TODO: Explain methodology"
   ]
  },
  {
   "cell_type": "code",
   "execution_count": 32,
   "metadata": {},
   "outputs": [],
   "source": [
    "docs = [TaggedDocument(\n",
    "             words=[word for word in test_words.lower().split()],\n",
    "             tags=[i]\n",
    "         ) for i, test_words in enumerate(test_hash)]"
   ]
  },
  {
   "cell_type": "code",
   "execution_count": 33,
   "metadata": {},
   "outputs": [
    {
     "name": "stdout",
     "output_type": "stream",
     "text": [
      "TaggedDocument<['the', 'church', 'of', 'christ:', 'a', 'biblical', 'ecclesiology', 'for', 'today'], [0]>\n"
     ]
    }
   ],
   "source": [
    "print(docs[0])"
   ]
  },
  {
   "cell_type": "code",
   "execution_count": 36,
   "metadata": {},
   "outputs": [
    {
     "name": "stdout",
     "output_type": "stream",
     "text": [
      "iteration 0\n",
      "iteration 1\n",
      "iteration 2\n",
      "iteration 3\n",
      "Model Saved\n"
     ]
    }
   ],
   "source": [
    "max_epochs = 4\n",
    "vec_size = 200\n",
    "alpha = 0.0025\n",
    "\n",
    "model = Doc2Vec(vector_size=vec_size,\n",
    "                alpha=alpha, \n",
    "                min_alpha=0.0025,\n",
    "                min_count=0.00001,\n",
    "                dm =1)\n",
    "  \n",
    "model.build_vocab(docs)\n",
    "\n",
    "for epoch in range(max_epochs):\n",
    "    print('iteration {0}'.format(epoch))\n",
    "    model.train(docs,\n",
    "                total_examples=model.corpus_count,\n",
    "                epochs= max_epochs)\n",
    "    # decrease the learning rate\n",
    "    model.alpha -= 0.0002\n",
    "    # fix the learning rate, no decay\n",
    "    model.min_alpha = model.alpha\n",
    "\n",
    "model.save(\"d2vtestL.model\")\n",
    "print(\"Model Saved\")"
   ]
  },
  {
   "cell_type": "code",
   "execution_count": 39,
   "metadata": {},
   "outputs": [
    {
     "name": "stdout",
     "output_type": "stream",
     "text": [
      "[(13123, 0.9982852339744568), (22398, 0.9980025887489319), (1324, 0.9979535937309265), (188, 0.9979435801506042), (28364, 0.9979380369186401), (5379, 0.997916042804718), (24235, 0.9979107975959778), (466, 0.9979106783866882), (16369, 0.9979103803634644), (21210, 0.9978847503662109)]\n"
     ]
    },
    {
     "name": "stderr",
     "output_type": "stream",
     "text": [
      "/var/folders/zn/5wg9cgvx6jg1qrfz458d4m900000gn/T/ipykernel_18103/3416598151.py:5: DeprecationWarning: Call to deprecated `docvecs` (The `docvecs` property has been renamed `dv`.).\n",
      "  similar_doc = model.docvecs.most_similar(2)\n"
     ]
    }
   ],
   "source": [
    "model= Doc2Vec.load(\"d2v.model\")\n",
    "\n",
    "\n",
    "# to find most similar doc using tags\n",
    "similar_doc = model.docvecs.most_similar(2)\n",
    "print(similar_doc)\n",
    "#print(model.docvecs['1'])"
   ]
  },
  {
   "cell_type": "code",
   "execution_count": 62,
   "metadata": {},
   "outputs": [
    {
     "name": "stdout",
     "output_type": "stream",
     "text": [
      "25555\n",
      "Caesar and Cleopatra,\n",
      "Functions and Graphs\n",
      "Laundry and Bourbon\n",
      "Max and Felix\n",
      "Snakes and Earrings\n",
      "VERTICAL TRANSPORTATION Elevators and Escalators\n",
      "Exchange Rates and Inflation\n",
      "And Again?\n",
      "MAIGRET AND THE BUM\n",
      "Redcoats and Petticoats\n",
      "AAAAAAAAA\n",
      "['Caesar and Cleopatra,', 'Functions and Graphs', 'Laundry and Bourbon', 'Max and Felix', 'Snakes and Earrings', 'VERTICAL TRANSPORTATION Elevators and Escalators', 'Exchange Rates and Inflation', 'And Again?', 'MAIGRET AND THE BUM', 'Redcoats and Petticoats']\n",
      "Index(['Unnamed: 0', 'Title', 'authors', 'publishedDate', 'clean_summary',\n",
      "       'clean_categories', 'averageRating'],\n",
      "      dtype='object')\n"
     ]
    }
   ],
   "source": [
    "def search_books(title_str):\n",
    "    # Get the index to search by in the model\n",
    "    index = file1.index[file1['Title'] == title_str].to_list()[0]\n",
    "    \n",
    "    # Search for the most similar through the model\n",
    "    most_similar_docs = []\n",
    "    for d in model.dv.most_similar([index]):\n",
    "        most_similar_docs.append(test_hash[d[0]])\n",
    "\n",
    "    recommendations = pd.DataFrame()\n",
    "    for title in most_similar_docs:\n",
    "        new_row = file1.loc[file1['Title'] == title]\n",
    "        recommendations = pd.concat([recommendations, new_row])\n",
    "\n",
    "    # Return top 5 of the recommended books\n",
    "    return recommendations.head(5)"
   ]
  },
  {
   "cell_type": "code",
   "execution_count": 46,
   "metadata": {},
   "outputs": [
    {
     "name": "stdout",
     "output_type": "stream",
     "text": [
      "Unnamed: 0                                                      25815\n",
      "Title                                                  Oryx and Crake\n",
      "authors                                           ['Margaret Atwood']\n",
      "publishedDate                                              2009-09-03\n",
      "clean_summary       author handmaids tale alias grace pigs might f...\n",
      "clean_categories                                              fiction\n",
      "averageRating                                                    3.89\n",
      "Name: 25555, dtype: object\n"
     ]
    }
   ],
   "source": [
    "print(file1.iloc[25555])"
   ]
  },
  {
   "cell_type": "code",
   "execution_count": 47,
   "metadata": {},
   "outputs": [
    {
     "data": {
      "text/html": [
       "<div>\n",
       "<style scoped>\n",
       "    .dataframe tbody tr th:only-of-type {\n",
       "        vertical-align: middle;\n",
       "    }\n",
       "\n",
       "    .dataframe tbody tr th {\n",
       "        vertical-align: top;\n",
       "    }\n",
       "\n",
       "    .dataframe thead th {\n",
       "        text-align: right;\n",
       "    }\n",
       "</style>\n",
       "<table border=\"1\" class=\"dataframe\">\n",
       "  <thead>\n",
       "    <tr style=\"text-align: right;\">\n",
       "      <th></th>\n",
       "      <th>Unnamed: 0</th>\n",
       "      <th>Title</th>\n",
       "      <th>authors</th>\n",
       "      <th>publishedDate</th>\n",
       "      <th>clean_summary</th>\n",
       "      <th>clean_categories</th>\n",
       "      <th>averageRating</th>\n",
       "    </tr>\n",
       "  </thead>\n",
       "  <tbody>\n",
       "    <tr>\n",
       "      <th>25555</th>\n",
       "      <td>25815</td>\n",
       "      <td>Oryx and Crake</td>\n",
       "      <td>['Margaret Atwood']</td>\n",
       "      <td>2009-09-03</td>\n",
       "      <td>author handmaids tale alias grace pigs might f...</td>\n",
       "      <td>fiction</td>\n",
       "      <td>3.89</td>\n",
       "    </tr>\n",
       "  </tbody>\n",
       "</table>\n",
       "</div>"
      ],
      "text/plain": [
       "       Unnamed: 0           Title              authors publishedDate  \\\n",
       "25555       25815  Oryx and Crake  ['Margaret Atwood']    2009-09-03   \n",
       "\n",
       "                                           clean_summary clean_categories  \\\n",
       "25555  author handmaids tale alias grace pigs might f...          fiction   \n",
       "\n",
       "       averageRating  \n",
       "25555           3.89  "
      ]
     },
     "execution_count": 47,
     "metadata": {},
     "output_type": "execute_result"
    }
   ],
   "source": [
    "file1.loc[file1['Title'] == \"Oryx and Crake\"]"
   ]
  }
 ],
 "metadata": {
  "kernelspec": {
   "display_name": "Python 3.9.12 ('.venv': venv)",
   "language": "python",
   "name": "python3"
  },
  "language_info": {
   "codemirror_mode": {
    "name": "ipython",
    "version": 3
   },
   "file_extension": ".py",
   "mimetype": "text/x-python",
   "name": "python",
   "nbconvert_exporter": "python",
   "pygments_lexer": "ipython3",
   "version": "3.9.12"
  },
  "orig_nbformat": 4,
  "vscode": {
   "interpreter": {
    "hash": "de9863de0c6bc315d0d794f833adbe3c89eacb8595885095fba6252484863c0d"
   }
  }
 },
 "nbformat": 4,
 "nbformat_minor": 2
}
