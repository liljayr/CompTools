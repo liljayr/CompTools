{
 "cells": [
  {
   "cell_type": "code",
   "execution_count": 63,
   "metadata": {},
   "outputs": [
    {
     "name": "stdout",
     "output_type": "stream",
     "text": [
      "Requirement already satisfied: pip in /Users/liljayrgudmundsdottir/Documents/DTU/CompTools4DS/Project/aaaaaa/CompTools/.venv/lib/python3.9/site-packages (22.0.4)\n",
      "Collecting pip\n",
      "  Downloading pip-22.3.1-py3-none-any.whl (2.1 MB)\n",
      "\u001b[2K     \u001b[90m━━━━━━━━━━━━━━━━━━━━━━━━━━━━━━━━━━━━━━━━\u001b[0m \u001b[32m2.1/2.1 MB\u001b[0m \u001b[31m15.9 MB/s\u001b[0m eta \u001b[36m0:00:00\u001b[0m00:01\u001b[0m00:01\u001b[0m\n",
      "\u001b[?25hInstalling collected packages: pip\n",
      "  Attempting uninstall: pip\n",
      "    Found existing installation: pip 22.0.4\n",
      "    Uninstalling pip-22.0.4:\n",
      "      Successfully uninstalled pip-22.0.4\n",
      "Successfully installed pip-22.3.1\n",
      "Requirement already satisfied: torch in /Users/liljayrgudmundsdottir/Documents/DTU/CompTools4DS/Project/aaaaaa/CompTools/.venv/lib/python3.9/site-packages (1.13.0)\n",
      "Requirement already satisfied: typing-extensions in /Users/liljayrgudmundsdottir/Documents/DTU/CompTools4DS/Project/aaaaaa/CompTools/.venv/lib/python3.9/site-packages (from torch) (4.4.0)\n",
      "Requirement already satisfied: tensorflow in /Users/liljayrgudmundsdottir/Documents/DTU/CompTools4DS/Project/aaaaaa/CompTools/.venv/lib/python3.9/site-packages (2.11.0)\n",
      "Requirement already satisfied: six>=1.12.0 in /Users/liljayrgudmundsdottir/Documents/DTU/CompTools4DS/Project/aaaaaa/CompTools/.venv/lib/python3.9/site-packages (from tensorflow) (1.16.0)\n",
      "Requirement already satisfied: gast<=0.4.0,>=0.2.1 in /Users/liljayrgudmundsdottir/Documents/DTU/CompTools4DS/Project/aaaaaa/CompTools/.venv/lib/python3.9/site-packages (from tensorflow) (0.4.0)\n",
      "Requirement already satisfied: absl-py>=1.0.0 in /Users/liljayrgudmundsdottir/Documents/DTU/CompTools4DS/Project/aaaaaa/CompTools/.venv/lib/python3.9/site-packages (from tensorflow) (1.3.0)\n",
      "Requirement already satisfied: h5py>=2.9.0 in /Users/liljayrgudmundsdottir/Documents/DTU/CompTools4DS/Project/aaaaaa/CompTools/.venv/lib/python3.9/site-packages (from tensorflow) (3.7.0)\n",
      "Requirement already satisfied: setuptools in /Users/liljayrgudmundsdottir/Documents/DTU/CompTools4DS/Project/aaaaaa/CompTools/.venv/lib/python3.9/site-packages (from tensorflow) (58.1.0)\n",
      "Requirement already satisfied: tensorflow-estimator<2.12,>=2.11.0 in /Users/liljayrgudmundsdottir/Documents/DTU/CompTools4DS/Project/aaaaaa/CompTools/.venv/lib/python3.9/site-packages (from tensorflow) (2.11.0)\n",
      "Requirement already satisfied: numpy>=1.20 in /Users/liljayrgudmundsdottir/Documents/DTU/CompTools4DS/Project/aaaaaa/CompTools/.venv/lib/python3.9/site-packages (from tensorflow) (1.23.4)\n",
      "Requirement already satisfied: astunparse>=1.6.0 in /Users/liljayrgudmundsdottir/Documents/DTU/CompTools4DS/Project/aaaaaa/CompTools/.venv/lib/python3.9/site-packages (from tensorflow) (1.6.3)\n",
      "Requirement already satisfied: tensorboard<2.12,>=2.11 in /Users/liljayrgudmundsdottir/Documents/DTU/CompTools4DS/Project/aaaaaa/CompTools/.venv/lib/python3.9/site-packages (from tensorflow) (2.11.0)\n",
      "Requirement already satisfied: google-pasta>=0.1.1 in /Users/liljayrgudmundsdottir/Documents/DTU/CompTools4DS/Project/aaaaaa/CompTools/.venv/lib/python3.9/site-packages (from tensorflow) (0.2.0)\n",
      "Requirement already satisfied: keras<2.12,>=2.11.0 in /Users/liljayrgudmundsdottir/Documents/DTU/CompTools4DS/Project/aaaaaa/CompTools/.venv/lib/python3.9/site-packages (from tensorflow) (2.11.0)\n",
      "Requirement already satisfied: opt-einsum>=2.3.2 in /Users/liljayrgudmundsdottir/Documents/DTU/CompTools4DS/Project/aaaaaa/CompTools/.venv/lib/python3.9/site-packages (from tensorflow) (3.3.0)\n",
      "Requirement already satisfied: protobuf<3.20,>=3.9.2 in /Users/liljayrgudmundsdottir/Documents/DTU/CompTools4DS/Project/aaaaaa/CompTools/.venv/lib/python3.9/site-packages (from tensorflow) (3.19.6)\n",
      "Requirement already satisfied: wrapt>=1.11.0 in /Users/liljayrgudmundsdottir/Documents/DTU/CompTools4DS/Project/aaaaaa/CompTools/.venv/lib/python3.9/site-packages (from tensorflow) (1.14.1)\n",
      "Requirement already satisfied: typing-extensions>=3.6.6 in /Users/liljayrgudmundsdottir/Documents/DTU/CompTools4DS/Project/aaaaaa/CompTools/.venv/lib/python3.9/site-packages (from tensorflow) (4.4.0)\n",
      "Requirement already satisfied: libclang>=13.0.0 in /Users/liljayrgudmundsdottir/Documents/DTU/CompTools4DS/Project/aaaaaa/CompTools/.venv/lib/python3.9/site-packages (from tensorflow) (14.0.6)\n",
      "Requirement already satisfied: flatbuffers>=2.0 in /Users/liljayrgudmundsdottir/Documents/DTU/CompTools4DS/Project/aaaaaa/CompTools/.venv/lib/python3.9/site-packages (from tensorflow) (22.10.26)\n",
      "Requirement already satisfied: termcolor>=1.1.0 in /Users/liljayrgudmundsdottir/Documents/DTU/CompTools4DS/Project/aaaaaa/CompTools/.venv/lib/python3.9/site-packages (from tensorflow) (2.1.0)\n",
      "Requirement already satisfied: packaging in /Users/liljayrgudmundsdottir/Documents/DTU/CompTools4DS/Project/aaaaaa/CompTools/.venv/lib/python3.9/site-packages (from tensorflow) (21.3)\n",
      "Requirement already satisfied: grpcio<2.0,>=1.24.3 in /Users/liljayrgudmundsdottir/Documents/DTU/CompTools4DS/Project/aaaaaa/CompTools/.venv/lib/python3.9/site-packages (from tensorflow) (1.50.0)\n",
      "Requirement already satisfied: tensorflow-io-gcs-filesystem>=0.23.1 in /Users/liljayrgudmundsdottir/Documents/DTU/CompTools4DS/Project/aaaaaa/CompTools/.venv/lib/python3.9/site-packages (from tensorflow) (0.27.0)\n",
      "Requirement already satisfied: wheel<1.0,>=0.23.0 in /Users/liljayrgudmundsdottir/Documents/DTU/CompTools4DS/Project/aaaaaa/CompTools/.venv/lib/python3.9/site-packages (from astunparse>=1.6.0->tensorflow) (0.38.4)\n",
      "Requirement already satisfied: google-auth-oauthlib<0.5,>=0.4.1 in /Users/liljayrgudmundsdottir/Documents/DTU/CompTools4DS/Project/aaaaaa/CompTools/.venv/lib/python3.9/site-packages (from tensorboard<2.12,>=2.11->tensorflow) (0.4.6)\n",
      "Requirement already satisfied: markdown>=2.6.8 in /Users/liljayrgudmundsdottir/Documents/DTU/CompTools4DS/Project/aaaaaa/CompTools/.venv/lib/python3.9/site-packages (from tensorboard<2.12,>=2.11->tensorflow) (3.4.1)\n",
      "Requirement already satisfied: werkzeug>=1.0.1 in /Users/liljayrgudmundsdottir/Documents/DTU/CompTools4DS/Project/aaaaaa/CompTools/.venv/lib/python3.9/site-packages (from tensorboard<2.12,>=2.11->tensorflow) (2.2.2)\n",
      "Requirement already satisfied: google-auth<3,>=1.6.3 in /Users/liljayrgudmundsdottir/Documents/DTU/CompTools4DS/Project/aaaaaa/CompTools/.venv/lib/python3.9/site-packages (from tensorboard<2.12,>=2.11->tensorflow) (2.14.1)\n",
      "Requirement already satisfied: tensorboard-data-server<0.7.0,>=0.6.0 in /Users/liljayrgudmundsdottir/Documents/DTU/CompTools4DS/Project/aaaaaa/CompTools/.venv/lib/python3.9/site-packages (from tensorboard<2.12,>=2.11->tensorflow) (0.6.1)\n",
      "Requirement already satisfied: tensorboard-plugin-wit>=1.6.0 in /Users/liljayrgudmundsdottir/Documents/DTU/CompTools4DS/Project/aaaaaa/CompTools/.venv/lib/python3.9/site-packages (from tensorboard<2.12,>=2.11->tensorflow) (1.8.1)\n",
      "Requirement already satisfied: requests<3,>=2.21.0 in /Users/liljayrgudmundsdottir/Documents/DTU/CompTools4DS/Project/aaaaaa/CompTools/.venv/lib/python3.9/site-packages (from tensorboard<2.12,>=2.11->tensorflow) (2.28.1)\n",
      "Requirement already satisfied: pyparsing!=3.0.5,>=2.0.2 in /Users/liljayrgudmundsdottir/Documents/DTU/CompTools4DS/Project/aaaaaa/CompTools/.venv/lib/python3.9/site-packages (from packaging->tensorflow) (3.0.9)\n",
      "Requirement already satisfied: cachetools<6.0,>=2.0.0 in /Users/liljayrgudmundsdottir/Documents/DTU/CompTools4DS/Project/aaaaaa/CompTools/.venv/lib/python3.9/site-packages (from google-auth<3,>=1.6.3->tensorboard<2.12,>=2.11->tensorflow) (5.2.0)\n",
      "Requirement already satisfied: rsa<5,>=3.1.4 in /Users/liljayrgudmundsdottir/Documents/DTU/CompTools4DS/Project/aaaaaa/CompTools/.venv/lib/python3.9/site-packages (from google-auth<3,>=1.6.3->tensorboard<2.12,>=2.11->tensorflow) (4.9)\n",
      "Requirement already satisfied: pyasn1-modules>=0.2.1 in /Users/liljayrgudmundsdottir/Documents/DTU/CompTools4DS/Project/aaaaaa/CompTools/.venv/lib/python3.9/site-packages (from google-auth<3,>=1.6.3->tensorboard<2.12,>=2.11->tensorflow) (0.2.8)\n",
      "Requirement already satisfied: requests-oauthlib>=0.7.0 in /Users/liljayrgudmundsdottir/Documents/DTU/CompTools4DS/Project/aaaaaa/CompTools/.venv/lib/python3.9/site-packages (from google-auth-oauthlib<0.5,>=0.4.1->tensorboard<2.12,>=2.11->tensorflow) (1.3.1)\n",
      "Requirement already satisfied: importlib-metadata>=4.4 in /Users/liljayrgudmundsdottir/Documents/DTU/CompTools4DS/Project/aaaaaa/CompTools/.venv/lib/python3.9/site-packages (from markdown>=2.6.8->tensorboard<2.12,>=2.11->tensorflow) (5.0.0)\n",
      "Requirement already satisfied: certifi>=2017.4.17 in /Users/liljayrgudmundsdottir/Documents/DTU/CompTools4DS/Project/aaaaaa/CompTools/.venv/lib/python3.9/site-packages (from requests<3,>=2.21.0->tensorboard<2.12,>=2.11->tensorflow) (2022.9.24)\n",
      "Requirement already satisfied: charset-normalizer<3,>=2 in /Users/liljayrgudmundsdottir/Documents/DTU/CompTools4DS/Project/aaaaaa/CompTools/.venv/lib/python3.9/site-packages (from requests<3,>=2.21.0->tensorboard<2.12,>=2.11->tensorflow) (2.1.1)\n",
      "Requirement already satisfied: idna<4,>=2.5 in /Users/liljayrgudmundsdottir/Documents/DTU/CompTools4DS/Project/aaaaaa/CompTools/.venv/lib/python3.9/site-packages (from requests<3,>=2.21.0->tensorboard<2.12,>=2.11->tensorflow) (3.4)\n",
      "Requirement already satisfied: urllib3<1.27,>=1.21.1 in /Users/liljayrgudmundsdottir/Documents/DTU/CompTools4DS/Project/aaaaaa/CompTools/.venv/lib/python3.9/site-packages (from requests<3,>=2.21.0->tensorboard<2.12,>=2.11->tensorflow) (1.26.12)\n",
      "Requirement already satisfied: MarkupSafe>=2.1.1 in /Users/liljayrgudmundsdottir/Documents/DTU/CompTools4DS/Project/aaaaaa/CompTools/.venv/lib/python3.9/site-packages (from werkzeug>=1.0.1->tensorboard<2.12,>=2.11->tensorflow) (2.1.1)\n",
      "Requirement already satisfied: zipp>=0.5 in /Users/liljayrgudmundsdottir/Documents/DTU/CompTools4DS/Project/aaaaaa/CompTools/.venv/lib/python3.9/site-packages (from importlib-metadata>=4.4->markdown>=2.6.8->tensorboard<2.12,>=2.11->tensorflow) (3.10.0)\n",
      "Requirement already satisfied: pyasn1<0.5.0,>=0.4.6 in /Users/liljayrgudmundsdottir/Documents/DTU/CompTools4DS/Project/aaaaaa/CompTools/.venv/lib/python3.9/site-packages (from pyasn1-modules>=0.2.1->google-auth<3,>=1.6.3->tensorboard<2.12,>=2.11->tensorflow) (0.4.8)\n",
      "Requirement already satisfied: oauthlib>=3.0.0 in /Users/liljayrgudmundsdottir/Documents/DTU/CompTools4DS/Project/aaaaaa/CompTools/.venv/lib/python3.9/site-packages (from requests-oauthlib>=0.7.0->google-auth-oauthlib<0.5,>=0.4.1->tensorboard<2.12,>=2.11->tensorflow) (3.2.2)\n",
      "Requirement already satisfied: keras in /Users/liljayrgudmundsdottir/Documents/DTU/CompTools4DS/Project/aaaaaa/CompTools/.venv/lib/python3.9/site-packages (2.11.0)\n",
      "Requirement already satisfied: webdriver_manager in /Users/liljayrgudmundsdottir/Documents/DTU/CompTools4DS/Project/aaaaaa/CompTools/.venv/lib/python3.9/site-packages (3.8.5)\n",
      "Requirement already satisfied: requests in /Users/liljayrgudmundsdottir/Documents/DTU/CompTools4DS/Project/aaaaaa/CompTools/.venv/lib/python3.9/site-packages (from webdriver_manager) (2.28.1)\n",
      "Requirement already satisfied: python-dotenv in /Users/liljayrgudmundsdottir/Documents/DTU/CompTools4DS/Project/aaaaaa/CompTools/.venv/lib/python3.9/site-packages (from webdriver_manager) (0.21.0)\n",
      "Requirement already satisfied: tqdm in /Users/liljayrgudmundsdottir/Documents/DTU/CompTools4DS/Project/aaaaaa/CompTools/.venv/lib/python3.9/site-packages (from webdriver_manager) (4.64.1)\n",
      "Requirement already satisfied: packaging in /Users/liljayrgudmundsdottir/Documents/DTU/CompTools4DS/Project/aaaaaa/CompTools/.venv/lib/python3.9/site-packages (from webdriver_manager) (21.3)\n",
      "Requirement already satisfied: pyparsing!=3.0.5,>=2.0.2 in /Users/liljayrgudmundsdottir/Documents/DTU/CompTools4DS/Project/aaaaaa/CompTools/.venv/lib/python3.9/site-packages (from packaging->webdriver_manager) (3.0.9)\n",
      "Requirement already satisfied: urllib3<1.27,>=1.21.1 in /Users/liljayrgudmundsdottir/Documents/DTU/CompTools4DS/Project/aaaaaa/CompTools/.venv/lib/python3.9/site-packages (from requests->webdriver_manager) (1.26.12)\n",
      "Requirement already satisfied: charset-normalizer<3,>=2 in /Users/liljayrgudmundsdottir/Documents/DTU/CompTools4DS/Project/aaaaaa/CompTools/.venv/lib/python3.9/site-packages (from requests->webdriver_manager) (2.1.1)\n",
      "Requirement already satisfied: certifi>=2017.4.17 in /Users/liljayrgudmundsdottir/Documents/DTU/CompTools4DS/Project/aaaaaa/CompTools/.venv/lib/python3.9/site-packages (from requests->webdriver_manager) (2022.9.24)\n",
      "Requirement already satisfied: idna<4,>=2.5 in /Users/liljayrgudmundsdottir/Documents/DTU/CompTools4DS/Project/aaaaaa/CompTools/.venv/lib/python3.9/site-packages (from requests->webdriver_manager) (3.4)\n"
     ]
    }
   ],
   "source": [
    "import sys\n",
    "!{sys.executable} -m pip install pip --upgrade\n",
    "!{sys.executable} -m pip install torch\n",
    "!{sys.executable} -m pip install tensorflow\n",
    "!{sys.executable} -m pip install keras\n",
    "!{sys.executable} -m pip install webdriver_manager"
   ]
  },
  {
   "cell_type": "code",
   "execution_count": 2,
   "metadata": {},
   "outputs": [],
   "source": [
    "import numpy as np\n",
    "import pandas as pd\n",
    "from functions import *\n",
    "import matplotlib.pyplot as plt\n",
    "from nltk.corpus import stopwords\n",
    "from sklearn.cluster import KMeans\n",
    "from sklearn.decomposition import PCA\n",
    "from sklearn.preprocessing import normalize\n",
    "from gensim.models.doc2vec import Doc2Vec, TaggedDocument\n",
    "from sklearn.feature_extraction.text import TfidfVectorizer"
   ]
  },
  {
   "cell_type": "markdown",
   "metadata": {},
   "source": [
    "# **Computational Tools for Data Science Final Project**\n"
   ]
  },
  {
   "cell_type": "markdown",
   "metadata": {},
   "source": [
    "## Getting and Cleaning the Data\n",
    "\n",
    "Our main goal is to classify the books with text simmilarity ( using summaries) and predict their genre correctly. Moreover, we want to make a simple recomendation UI using github pages which the user can choose between time, rating , genre and get some recomendation based on our classification model.\n",
    "\n",
    "In this project we are going to use a cleaned up version of this [data set from Kaggle](https://www.kaggle.com/datasets/mohamedbakhet/amazon-books-reviews?select=books_data.csv&fbclid=IwAR3H0BlyYyiNodMoF0GbzknzNMyriDa_9eL00g1if_Y29QBPcobfeHQpZCE).\n",
    "\n",
    "This dataset contains two csv files, one containg the book ratings and another contaning information about the books. To cleanup the dataset we want to combine the two csvs for ease of use and remove any unwanted rows and string characters. Post cleanup there are 41406 books with columns:\n",
    "* Title\n",
    "* authors\n",
    "* publishedDate\n",
    "* clean_summary\n",
    "* clean_categories\n",
    "* averageRating"
   ]
  },
  {
   "cell_type": "code",
   "execution_count": null,
   "metadata": {},
   "outputs": [],
   "source": [
    "# read csv files downloaded from Kaggle (not runnable off the bat, csv too big for github)\n",
    "original_books = pd.read_csv(b='books_data.csv')\n",
    "original_ratings = pd.read_csv(b='Books_rating.csv')\n",
    "\n",
    "#writing to clean data with ratings combined\n",
    "for index, row in original_books.iterrows():\n",
    "    dum_pd = original_ratings[original_ratings['Title'] == row['Title']]\n",
    "    aveRating = round(sum(dum_pd['review/score'])/len(dum_pd.index), 2)\n",
    "    original_books.at[index, 'averageRating'] = aveRating\n",
    "\n",
    "# write to csv file\n",
    "original_books.to_csv('books_and_ratings.csv')"
   ]
  },
  {
   "cell_type": "code",
   "execution_count": 43,
   "metadata": {},
   "outputs": [
    {
     "name": "stdout",
     "output_type": "stream",
     "text": [
      "Index(['Title', 'description', 'authors', 'publishedDate', 'categories',\n",
      "       'averageRating', 'previewLink', 'clean_summary', 'clean_categories'],\n",
      "      dtype='object')\n"
     ]
    }
   ],
   "source": [
    "# Load in books + ratings csv created before\n",
    "clean_books1 = pd.read_csv('books_and_ratings.csv')\n",
    "\n",
    "# Selecting specific columns that are relevant to the project\n",
    "clean_books1 = clean_books1[[\"Title\",\"description\",\"authors\",\"publishedDate\",\"categories\",\"averageRating\",\"previewLink\"]]\n",
    "\n",
    "# Clean up the description and categories columns (removing punctuation and )\n",
    "clean_books1['clean_summary'] = clean_books1['description'].apply(lambda x: clean_books(x))\n",
    "#clean_books1['clean_authors'] = clean_books1['authors'].apply(lambda x: clean_books(x))\n",
    "clean_books1['clean_categories'] = clean_books1['categories'].apply(lambda x: clean_books(x))\n",
    "\n",
    "# Drop all rows with null in them\n",
    "clean_books1 = clean_books1.dropna()\n",
    "print(clean_books1.columns)\n",
    "\n",
    "# Write to new csv file\n",
    "clean_books1.to_csv(\"final.csv\")\n"
   ]
  },
  {
   "cell_type": "markdown",
   "metadata": {},
   "source": [
    "## KMeans Analysis\n",
    "\n",
    "Now let's analyze the data a bit better and see if it can be grouped together by description even after the clean up and shrinking of the dataset. We want to remove unwanted stopwords (i.e. the, a, to, etc) that appear frequently in text regardless of the context. This will give us a more accurate look at "
   ]
  },
  {
   "cell_type": "code",
   "execution_count": 44,
   "metadata": {},
   "outputs": [],
   "source": [
    "book_reviews_pd = pd.read_csv(\"final.csv\")\n",
    "book_reviews_pd['clean_summary'] = book_reviews_pd['clean_summary'].apply(lambda x: clean_books(x))"
   ]
  },
  {
   "cell_type": "code",
   "execution_count": 35,
   "metadata": {},
   "outputs": [
    {
     "name": "stderr",
     "output_type": "stream",
     "text": [
      "/var/folders/zn/5wg9cgvx6jg1qrfz458d4m900000gn/T/ipykernel_41815/2643365223.py:9: SettingWithCopyWarning: \n",
      "A value is trying to be set on a copy of a slice from a DataFrame\n",
      "\n",
      "See the caveats in the documentation: https://pandas.pydata.org/pandas-docs/stable/user_guide/indexing.html#returning-a-view-versus-a-copy\n",
      "  book_reviews_pd['clean_summary'].loc[index] = sum_str\n"
     ]
    }
   ],
   "source": [
    "stop_words = set(stopwords.words('english')) \n",
    "for index, row in book_reviews_pd[\"clean_summary\"].items():\n",
    "    if  isinstance(row, str):\n",
    "        sum_arr = row.split(\" \")\n",
    "        for word in sum_arr:\n",
    "            if word in stop_words:\n",
    "                sum_arr.remove(word)\n",
    "        sum_str = ' '.join(sum_arr)\n",
    "        book_reviews_pd['clean_summary'].loc[index] = sum_str"
   ]
  },
  {
   "cell_type": "code",
   "execution_count": 29,
   "metadata": {},
   "outputs": [],
   "source": [
    "data = book_reviews_pd['clean_summary']\n",
    "tf_idf_vectorizor = TfidfVectorizer(stop_words = 'english',\n",
    "                             max_features = 20000)\n",
    "\n",
    "tf_idf = tf_idf_vectorizor.fit_transform(data)\n",
    "tf_idf_norm = normalize(tf_idf)\n",
    "tf_idf_array = tf_idf_norm.toarray()"
   ]
  },
  {
   "cell_type": "code",
   "execution_count": 30,
   "metadata": {},
   "outputs": [],
   "source": [
    "sklearn_pca = PCA(n_components = 2)\n",
    "Y_sklearn = sklearn_pca.fit_transform(tf_idf_array)\n",
    "kmeans = KMeans(n_clusters=3, max_iter=600, algorithm = 'lloyd')\n",
    "fitted = kmeans.fit(Y_sklearn)\n",
    "prediction = kmeans.predict(Y_sklearn)"
   ]
  },
  {
   "cell_type": "code",
   "execution_count": 31,
   "metadata": {},
   "outputs": [],
   "source": [
    "kmeans2 = KMeans(n_clusters= 10)\n",
    "label = kmeans2.fit_predict(Y_sklearn)\n",
    "filtered_label0 = Y_sklearn[label == 0]"
   ]
  },
  {
   "cell_type": "code",
   "execution_count": 13,
   "metadata": {},
   "outputs": [
    {
     "name": "stdout",
     "output_type": "stream",
     "text": [
      "41406\n"
     ]
    }
   ],
   "source": [
    "print(len(label))"
   ]
  },
  {
   "cell_type": "code",
   "execution_count": 33,
   "metadata": {},
   "outputs": [],
   "source": [
    "genre_dict = {}\n",
    "for index in range(len(label)):\n",
    "    if label[index] in genre_dict.keys():\n",
    "        genre_dict[label[index]].add(book_reviews_pd.loc[index]['clean_categories'])\n",
    "    else:\n",
    "        genre_dict[label[index]] = set([(book_reviews_pd.loc[index]['clean_categories'])])\n"
   ]
  },
  {
   "cell_type": "code",
   "execution_count": 34,
   "metadata": {},
   "outputs": [
    {
     "name": "stdout",
     "output_type": "stream",
     "text": [
      "{'house design', 'business economics', 'religion', 'history', 'juvenile nonfiction', 'cooking', 'biography autobiography', 'art', 'science', 'transportation', 'animals', 'electronics', 'north america', 'health fitness', 'performing arts', 'europe', 'education', 'families', 'reference', 'philosophy', 'gardening', 'literature', 'fiction', 'asia', 'psychology', 'medical', 'games activities', 'language', 'travel', 'music'}\n"
     ]
    }
   ],
   "source": [
    "print(genre_dict[3])"
   ]
  },
  {
   "cell_type": "markdown",
   "metadata": {},
   "source": [
    "From this grouping based on the summaries alone one can see that there might be a little bit of relationship between the books based on the summaries since there are some similar genres. But there is also a wide variety of genres that get grouped together. This is possibly due to the fact that we do not have enough data to narrow down to only one genre. But we can also use this to our advantage where we can now find similar books to the one being looked up but also broaden the users horizons by recommending books that fit partially within the scope just in a different genre."
   ]
  },
  {
   "cell_type": "code",
   "execution_count": 32,
   "metadata": {},
   "outputs": [
    {
     "data": {
      "image/png": "[encoded data removed]",
      "text/plain": [
       "<Figure size 640x480 with 1 Axes>"
      ]
     },
     "metadata": {},
     "output_type": "display_data"
    }
   ],
   "source": [
    "u_labels = np.unique(label)\n",
    " \n",
    "for i in u_labels:\n",
    "    plt.scatter(Y_sklearn[label == i , 0] , Y_sklearn[label == i , 1] , label = i)\n",
    "plt.legend()\n",
    "plt.show()"
   ]
  },
  {
   "cell_type": "markdown",
   "metadata": {},
   "source": [
    "## Recommendation System and Model Building"
   ]
  },
  {
   "cell_type": "code",
   "execution_count": 24,
   "metadata": {},
   "outputs": [],
   "source": [
    "test = book_reviews_pd[[ 'clean_summary' , 'Title'] ]\n"
   ]
  },
  {
   "cell_type": "markdown",
   "metadata": {},
   "source": [
    "Now we want to create a hash to base our recommendation system on from the summary and book title."
   ]
  },
  {
   "cell_type": "code",
   "execution_count": 25,
   "metadata": {},
   "outputs": [],
   "source": [
    "test_words =  tuple(test['clean_summary'])\n",
    "test_hash = tuple(test['Title'])"
   ]
  },
  {
   "cell_type": "markdown",
   "metadata": {},
   "source": [
    "Then we use the hash we created to create a TaggedDocument for use in the model build. For the build of the model we made use of some knowledge learned in Deep Learning to get a better result in our recommendation system since as was seen in the KMeans analysis the summaries are not enough on their own."
   ]
  },
  {
   "cell_type": "code",
   "execution_count": 32,
   "metadata": {},
   "outputs": [],
   "source": [
    "docs = [TaggedDocument(\n",
    "             words=[word for word in test_words.lower().split()],\n",
    "             tags=[i]\n",
    "         ) for i, test_words in enumerate(test_hash)]"
   ]
  },
  {
   "cell_type": "code",
   "execution_count": 36,
   "metadata": {},
   "outputs": [
    {
     "name": "stdout",
     "output_type": "stream",
     "text": [
      "iteration 0\n",
      "iteration 1\n",
      "iteration 2\n",
      "iteration 3\n",
      "Model Saved\n"
     ]
    }
   ],
   "source": [
    "max_epochs = 4\n",
    "vec_size = 200\n",
    "alpha = 0.0025\n",
    "\n",
    "model = Doc2Vec(vector_size=vec_size,\n",
    "                alpha=alpha, \n",
    "                min_alpha=0.0025,\n",
    "                min_count=0.00001,\n",
    "                dm =1)\n",
    "  \n",
    "model.build_vocab(docs)\n",
    "\n",
    "for epoch in range(max_epochs):\n",
    "    print('iteration {0}'.format(epoch))\n",
    "    model.train(docs,\n",
    "                total_examples=model.corpus_count,\n",
    "                epochs= max_epochs)\n",
    "    # decrease the learning rate\n",
    "    model.alpha -= 0.0002\n",
    "    # fix the learning rate, no decay\n",
    "    model.min_alpha = model.alpha\n",
    "\n",
    "model.save(\"d2vtestL.model\")\n",
    "print(\"Model Saved\")"
   ]
  },
  {
   "cell_type": "code",
   "execution_count": 39,
   "metadata": {},
   "outputs": [
    {
     "name": "stdout",
     "output_type": "stream",
     "text": [
      "[(13123, 0.9982852339744568), (22398, 0.9980025887489319), (1324, 0.9979535937309265), (188, 0.9979435801506042), (28364, 0.9979380369186401), (5379, 0.997916042804718), (24235, 0.9979107975959778), (466, 0.9979106783866882), (16369, 0.9979103803634644), (21210, 0.9978847503662109)]\n"
     ]
    },
    {
     "name": "stderr",
     "output_type": "stream",
     "text": [
      "/var/folders/zn/5wg9cgvx6jg1qrfz458d4m900000gn/T/ipykernel_18103/3416598151.py:5: DeprecationWarning: Call to deprecated `docvecs` (The `docvecs` property has been renamed `dv`.).\n",
      "  similar_doc = model.docvecs.most_similar(2)\n"
     ]
    }
   ],
   "source": [
    "model= Doc2Vec.load(\"d2v.model\")\n",
    "\n",
    "\n",
    "# to find most similar doc using tags\n",
    "similar_doc = model.docvecs.most_similar(2)\n",
    "print(similar_doc)\n",
    "#print(model.docvecs['1'])"
   ]
  },
  {
   "cell_type": "markdown",
   "metadata": {},
   "source": [
    "## Final result\n",
    "Here is a small sample of a function to search for the correct recommendations based on a book title from the user. It returns the top 5 recommendations."
   ]
  },
  {
   "cell_type": "code",
   "execution_count": 38,
   "metadata": {},
   "outputs": [
    {
     "name": "stdout",
     "output_type": "stream",
     "text": [
      "       Unnamed: 0                  Title  \\\n",
      "25621       25881  Caesar and Cleopatra,   \n",
      "32194       32529   Functions and Graphs   \n",
      "24995       25250    Laundry and Bourbon   \n",
      "16267       16455          Max and Felix   \n",
      "29518       29826    Snakes and Earrings   \n",
      "\n",
      "                                                 authors publishedDate  \\\n",
      "25621         ['George Bernard Shaw', 'Dan H. Laurence']    2006-06-27   \n",
      "32194  ['I. M. Gelfand', 'E. G. Glagoleva', 'E. E. Sh...    2013-04-09   \n",
      "24995                                   ['James McLure']          1981   \n",
      "16267                             ['Larry Dane Brimner']          2001   \n",
      "29518                                ['Hitomi Kanehara']          2005   \n",
      "\n",
      "                                           clean_summary clean_categories  \\\n",
      "25621  exclusive to penguin classics the definitive t...  performing arts   \n",
      "32194  this text demonstrates the fundamentals of gra...        education   \n",
      "24995  the story the setting is the front porch of ro...  performing arts   \n",
      "16267  max and felix are two frogs who are friends wh...       psychology   \n",
      "29518  enchanted by the snakelike tongue of a strange...          fiction   \n",
      "\n",
      "       averageRating  \n",
      "25621           4.38  \n",
      "32194           5.00  \n",
      "24995           5.00  \n",
      "16267           3.00  \n",
      "29518           3.76  \n"
     ]
    }
   ],
   "source": [
    "def search_books(title_str):\n",
    "    book_reviews_pd = pd.read_csv('final.csv')\n",
    "    test = book_reviews_pd[[ 'clean_summary' , 'Title'] ]\n",
    "    test_hash = tuple(test['Title'])\n",
    "    # Get the index to search by in the model\n",
    "    index = book_reviews_pd.index[book_reviews_pd['Title'] == title_str].to_list()[0]\n",
    "\n",
    "    model= Doc2Vec.load(\"d2v.model\")\n",
    "    \n",
    "    # Search for the most similar through the model\n",
    "    most_similar_docs = []\n",
    "    for d in model.dv.most_similar([index]):\n",
    "        most_similar_docs.append(test_hash[d[0]])\n",
    "\n",
    "    recommendations = pd.DataFrame()\n",
    "    for title in most_similar_docs:\n",
    "        new_row = book_reviews_pd.loc[book_reviews_pd['Title'] == title]\n",
    "        recommendations = pd.concat([recommendations, new_row])\n",
    "\n",
    "    # Return top 5 of the recommended books\n",
    "    return recommendations.head(5)\n",
    "\n",
    "print(search_books('Oryx and Crake'))"
   ]
  },
  {
   "cell_type": "markdown",
   "metadata": {},
   "source": [
    "## Output\n",
    "\n",
    "Now that we have analyzed the data and created a recommendation model we decided to create a GUI to go with it which can be found by running 'View/recommendation_app.py' and inputting a book title you are interested in."
   ]
  }
 ],
 "metadata": {
  "kernelspec": {
   "display_name": "Python 3.9.12 ('.venv': venv)",
   "language": "python",
   "name": "python3"
  },
  "language_info": {
   "codemirror_mode": {
    "name": "ipython",
    "version": 3
   },
   "file_extension": ".py",
   "mimetype": "text/x-python",
   "name": "python",
   "nbconvert_exporter": "python",
   "pygments_lexer": "ipython3",
   "version": "3.9.12"
  },
  "orig_nbformat": 4,
  "vscode": {
   "interpreter": {
    "hash": "de9863de0c6bc315d0d794f833adbe3c89eacb8595885095fba6252484863c0d"
   }
  }
 },
 "nbformat": 4,
 "nbformat_minor": 2
}
